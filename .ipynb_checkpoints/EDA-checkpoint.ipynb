{
 "cells": [
  {
   "cell_type": "code",
   "execution_count": 63,
   "id": "e03c6f29",
   "metadata": {
    "ExecuteTime": {
     "end_time": "2021-10-08T06:06:18.895460Z",
     "start_time": "2021-10-08T06:06:18.891488Z"
    }
   },
   "outputs": [
    {
     "data": {
      "text/html": [
       "<style>.container { width:100% !important; }</style>"
      ],
      "text/plain": [
       "<IPython.core.display.HTML object>"
      ]
     },
     "metadata": {},
     "output_type": "display_data"
    }
   ],
   "source": [
    "from IPython.core.display import display, HTML\n",
    "display(HTML(\"<style>.container { width:100% !important; }</style>\"))\n",
    "\n",
    "import warnings\n",
    "warnings.filterwarnings('ignore')\n"
   ]
  },
  {
   "cell_type": "markdown",
   "id": "2b9d11a3",
   "metadata": {},
   "source": [
    "# Exploratory Data Analysis (EDA)"
   ]
  },
  {
   "cell_type": "markdown",
   "id": "b0b2c93f",
   "metadata": {
    "ExecuteTime": {
     "end_time": "2021-10-08T04:01:25.082558Z",
     "start_time": "2021-10-08T04:01:25.063559Z"
    }
   },
   "source": [
    "\n",
    "<img src=\"img/eda.png\" width=\"400\" align=\"center\" />\n",
    "\n",
    "Exploratory Data Analysis (EDA) is an approach/philosophy for data analysis that employs a variety of techniques (mostly graphical) to\n",
    "\n",
    "- maximize insight into a data set;\n",
    "- uncover underlying structure;\n",
    "- extract important variables;\n",
    "- detect outliers and anomalies;\n",
    "- test underlying assumptions;\n",
    "- develop parsimonious models; and󠀢\n",
    "- determine optimal factor settings.\n",
    "\n",
    "\n",
    "<a href=\"https://www.itl.nist.gov/div898/handbook/eda/section1/eda11.htm\">󠀢󠀢󠀢󠀢📖 NIST</a>"
   ]
  },
  {
   "cell_type": "markdown",
   "id": "cc1edda5",
   "metadata": {},
   "source": [
    "### Interactive links:\n",
    "\n",
    "- <a href=\"https://seeing-theory.brown.edu/index.html\">Seeing Theory</a>\n",
    "- <a href=\"http://mfviz.com/central-limit/\">Central Limit Theorem</a>\n"
   ]
  },
  {
   "cell_type": "markdown",
   "id": "e72be004",
   "metadata": {},
   "source": [
    "## Some statistical jargon:"
   ]
  },
  {
   "cell_type": "markdown",
   "id": "22738fbe",
   "metadata": {
    "ExecuteTime": {
     "end_time": "2021-10-08T04:38:53.345230Z",
     "start_time": "2021-10-08T04:38:53.341229Z"
    }
   },
   "source": [
    "### Expected value / Mean\n",
    "\n",
    "The **mean**, also referred to by statisticians as the average, is the most common statistic used to measure the center of a numerical data set. The mean is the sum of all the values in the data set divided by the number of values in the data set. The mean of the entire population is called the population mean, and the mean of a sample is called the sample mean.\n",
    "\n",
    "<font color='red'>The average is easily influenced by outliers (very small or large values in the data set that are not typical)<font/>\n",
    "\n",
    "$$ \\mu = \\Large \\bar{x} = \\frac{1}{n} \\sum_{i=1}^{n}x_i $$"
   ]
  },
  {
   "cell_type": "code",
   "execution_count": 154,
   "id": "706fd981",
   "metadata": {
    "ExecuteTime": {
     "end_time": "2021-10-08T06:37:40.529483Z",
     "start_time": "2021-10-08T06:37:40.526484Z"
    }
   },
   "outputs": [],
   "source": [
    "lst = [1, 4, 3, 2, 6, 4, 4, 3, 2, 6]"
   ]
  },
  {
   "cell_type": "code",
   "execution_count": null,
   "id": "70d466d8",
   "metadata": {
    "ExecuteTime": {
     "end_time": "2021-10-08T04:38:38.937934Z",
     "start_time": "2021-10-08T04:38:38.932929Z"
    }
   },
   "outputs": [],
   "source": [
    "def mean(t):\n",
    "    return sum(t) / len(t)"
   ]
  },
  {
   "cell_type": "code",
   "execution_count": null,
   "id": "4c0b008f",
   "metadata": {
    "ExecuteTime": {
     "end_time": "2021-10-08T04:38:39.202883Z",
     "start_time": "2021-10-08T04:38:39.184852Z"
    }
   },
   "outputs": [],
   "source": [
    "mean(lst)"
   ]
  },
  {
   "cell_type": "code",
   "execution_count": null,
   "id": "9807b7b0",
   "metadata": {
    "ExecuteTime": {
     "end_time": "2021-10-08T04:38:17.739072Z",
     "start_time": "2021-10-08T04:38:15.498597Z"
    }
   },
   "outputs": [],
   "source": [
    "np.mean(lst)"
   ]
  },
  {
   "cell_type": "markdown",
   "id": "57ce7905",
   "metadata": {},
   "source": [
    "### Median\n",
    "\n",
    "The **median** represents the middle value in a dataset. The median is important because it gives us an idea of where the center value is located in a dataset. The median tends to be more useful to calculate than the mean when a distribution is skewed and/or has outliers\n",
    "\n",
    "<img src=\"img/med.svg\" width=\"250\" align=\"center\" />"
   ]
  },
  {
   "cell_type": "code",
   "execution_count": 146,
   "id": "a74b2f7b",
   "metadata": {
    "ExecuteTime": {
     "end_time": "2021-10-08T06:37:18.612457Z",
     "start_time": "2021-10-08T06:37:18.597456Z"
    }
   },
   "outputs": [],
   "source": [
    "def median(X):\n",
    "    n = len(X)\n",
    "    sortX = sorted(X)\n",
    "    \n",
    "    if n % 2 != 0:\n",
    "        return sortX[n // 2]\n",
    "    else:\n",
    "        return ( sortX[n // 2 - 1] + sortX[n // 2] ) / 2\n"
   ]
  },
  {
   "cell_type": "code",
   "execution_count": 155,
   "id": "1c40c7f5",
   "metadata": {
    "ExecuteTime": {
     "end_time": "2021-10-08T06:37:42.331825Z",
     "start_time": "2021-10-08T06:37:42.321856Z"
    }
   },
   "outputs": [
    {
     "data": {
      "text/plain": [
       "4"
      ]
     },
     "execution_count": 155,
     "metadata": {},
     "output_type": "execute_result"
    }
   ],
   "source": [
    "median(lst)"
   ]
  },
  {
   "cell_type": "code",
   "execution_count": 156,
   "id": "5570cc66",
   "metadata": {
    "ExecuteTime": {
     "end_time": "2021-10-08T06:37:43.158995Z",
     "start_time": "2021-10-08T06:37:43.154025Z"
    }
   },
   "outputs": [
    {
     "data": {
      "text/plain": [
       "4.0"
      ]
     },
     "execution_count": 156,
     "metadata": {},
     "output_type": "execute_result"
    }
   ],
   "source": [
    "# lst1 = [0, 1, -1, -10, -16, -6]\n",
    "np.median(lst)\n",
    "# np.percentile(lst, 50)"
   ]
  },
  {
   "cell_type": "markdown",
   "id": "b26c845d",
   "metadata": {
    "ExecuteTime": {
     "end_time": "2021-10-08T04:40:09.735007Z",
     "start_time": "2021-10-08T04:40:09.729038Z"
    }
   },
   "source": [
    "### Variance\n",
    "\n",
    "In statistics, scientists and statisticians use the **variance** to determine how well the mean represents an entire set of data. For instance, the higher the variance, the more range exists within the set\n",
    "\n",
    "https://en.wikipedia.org/wiki/Bessel%27s_correction\n",
    "\n",
    "$$ \\Large s^2 = \\frac{1}{n} \\sum_{i=1}^{n}(x_i - \\bar{x})^2 $$"
   ]
  },
  {
   "cell_type": "code",
   "execution_count": 67,
   "id": "b2c1b1bd",
   "metadata": {
    "ExecuteTime": {
     "end_time": "2021-10-08T06:11:08.013508Z",
     "start_time": "2021-10-08T06:11:08.009506Z"
    }
   },
   "outputs": [],
   "source": [
    "def variance(t):\n",
    "    mu = mean(t)\n",
    "    return sum((x - mu) ** 2 for x in t) / len(t)"
   ]
  },
  {
   "cell_type": "code",
   "execution_count": 68,
   "id": "fb7e694b",
   "metadata": {
    "ExecuteTime": {
     "end_time": "2021-10-08T06:11:09.185213Z",
     "start_time": "2021-10-08T06:11:09.169215Z"
    }
   },
   "outputs": [
    {
     "data": {
      "text/plain": [
       "2.45"
      ]
     },
     "execution_count": 68,
     "metadata": {},
     "output_type": "execute_result"
    }
   ],
   "source": [
    "variance(lst)"
   ]
  },
  {
   "cell_type": "code",
   "execution_count": 66,
   "id": "dafc61f7",
   "metadata": {
    "ExecuteTime": {
     "end_time": "2021-10-08T06:11:02.807057Z",
     "start_time": "2021-10-08T06:11:02.798061Z"
    }
   },
   "outputs": [
    {
     "data": {
      "text/plain": [
       "2.45"
      ]
     },
     "execution_count": 66,
     "metadata": {},
     "output_type": "execute_result"
    }
   ],
   "source": [
    "np.var(lst)"
   ]
  },
  {
   "cell_type": "markdown",
   "id": "2dee5129",
   "metadata": {
    "ExecuteTime": {
     "end_time": "2021-10-08T04:40:10.033255Z",
     "start_time": "2021-10-08T04:40:10.025262Z"
    }
   },
   "source": [
    "### Standard Deviation\n",
    "\n",
    "A **standard deviation** (or σ) is a measure of how dispersed the data is in relation to the mean. Low standard deviation means data are clustered around the mean, and high standard deviation indicates data are more spread out.\n",
    "\n",
    "$$ \\Large s = \\sqrt{\\frac{1}{n} \\sum_{i=1}^{n}(x_i - \\bar{x})^2} $$"
   ]
  },
  {
   "cell_type": "code",
   "execution_count": 71,
   "id": "ad3f866d",
   "metadata": {
    "ExecuteTime": {
     "end_time": "2021-10-08T06:13:47.385103Z",
     "start_time": "2021-10-08T06:13:47.378106Z"
    }
   },
   "outputs": [],
   "source": [
    "def std(t):\n",
    "    return variance(t) ** 0.5"
   ]
  },
  {
   "cell_type": "code",
   "execution_count": 72,
   "id": "3f48aac8",
   "metadata": {
    "ExecuteTime": {
     "end_time": "2021-10-08T06:13:47.634785Z",
     "start_time": "2021-10-08T06:13:47.629785Z"
    }
   },
   "outputs": [
    {
     "data": {
      "text/plain": [
       "1.5652475842498528"
      ]
     },
     "execution_count": 72,
     "metadata": {},
     "output_type": "execute_result"
    }
   ],
   "source": [
    "std(lst)"
   ]
  },
  {
   "cell_type": "code",
   "execution_count": 73,
   "id": "f83e665d",
   "metadata": {
    "ExecuteTime": {
     "end_time": "2021-10-08T06:14:00.545122Z",
     "start_time": "2021-10-08T06:14:00.530123Z"
    }
   },
   "outputs": [
    {
     "data": {
      "text/plain": [
       "1.5652475842498528"
      ]
     },
     "execution_count": 73,
     "metadata": {},
     "output_type": "execute_result"
    }
   ],
   "source": [
    "np.std(lst)"
   ]
  },
  {
   "cell_type": "markdown",
   "id": "a4c5cb1b",
   "metadata": {},
   "source": [
    "## Preparations"
   ]
  },
  {
   "cell_type": "markdown",
   "id": "9b427e7f",
   "metadata": {},
   "source": [
    "<img src=\"img/ml.jpg\" width=\"600\"/>"
   ]
  },
  {
   "cell_type": "code",
   "execution_count": null,
   "id": "4eed4342",
   "metadata": {
    "ExecuteTime": {
     "end_time": "2021-10-08T05:05:28.711855Z",
     "start_time": "2021-10-08T05:05:27.468184Z"
    }
   },
   "outputs": [],
   "source": [
    "import numpy as np\n",
    "import pandas as pd\n",
    "import matplotlib.pyplot as plt"
   ]
  },
  {
   "cell_type": "code",
   "execution_count": null,
   "id": "43f795b3",
   "metadata": {
    "ExecuteTime": {
     "end_time": "2021-10-08T05:22:12.514546Z",
     "start_time": "2021-10-08T05:22:12.502545Z"
    }
   },
   "outputs": [],
   "source": [
    "plt.style.use('bmh')"
   ]
  },
  {
   "cell_type": "code",
   "execution_count": null,
   "id": "28539e4e",
   "metadata": {
    "ExecuteTime": {
     "end_time": "2021-10-08T05:05:28.790557Z",
     "start_time": "2021-10-08T05:05:28.713782Z"
    }
   },
   "outputs": [],
   "source": [
    "df = pd.read_csv('data/Iris.csv')"
   ]
  },
  {
   "cell_type": "code",
   "execution_count": null,
   "id": "88b411ae",
   "metadata": {
    "ExecuteTime": {
     "end_time": "2021-10-08T05:05:29.120033Z",
     "start_time": "2021-10-08T05:05:29.003353Z"
    }
   },
   "outputs": [],
   "source": [
    "df.head()"
   ]
  },
  {
   "cell_type": "code",
   "execution_count": null,
   "id": "f934b440",
   "metadata": {
    "ExecuteTime": {
     "end_time": "2021-10-08T05:07:09.678280Z",
     "start_time": "2021-10-08T05:07:09.668279Z"
    }
   },
   "outputs": [],
   "source": [
    "df.tail(1)"
   ]
  },
  {
   "cell_type": "code",
   "execution_count": null,
   "id": "9d541366",
   "metadata": {
    "ExecuteTime": {
     "end_time": "2021-10-08T05:08:25.640614Z",
     "start_time": "2021-10-08T05:08:25.628615Z"
    }
   },
   "outputs": [],
   "source": [
    "df.columns"
   ]
  },
  {
   "cell_type": "code",
   "execution_count": null,
   "id": "cdbced51",
   "metadata": {
    "ExecuteTime": {
     "end_time": "2021-10-08T05:08:29.802184Z",
     "start_time": "2021-10-08T05:08:29.796179Z"
    }
   },
   "outputs": [],
   "source": [
    "df.columns = df.columns.str.lower()"
   ]
  },
  {
   "cell_type": "code",
   "execution_count": null,
   "id": "59d9a128",
   "metadata": {
    "ExecuteTime": {
     "end_time": "2021-10-08T05:09:16.883833Z",
     "start_time": "2021-10-08T05:09:16.868803Z"
    }
   },
   "outputs": [],
   "source": [
    "df.info()"
   ]
  },
  {
   "cell_type": "code",
   "execution_count": null,
   "id": "8413ebe5",
   "metadata": {
    "ExecuteTime": {
     "end_time": "2021-10-08T05:11:03.968106Z",
     "start_time": "2021-10-08T05:11:03.928915Z"
    }
   },
   "outputs": [],
   "source": [
    "missing_data = pd.DataFrame({\n",
    "    'total_missing': df.isnull().sum(),\n",
    "    'perc_missing': (df.isnull().sum()/df.shape[0]) * 100\n",
    "})\n",
    "\n",
    "missing_data.sort_values(by='perc_missing', ascending=False)"
   ]
  },
  {
   "cell_type": "code",
   "execution_count": null,
   "id": "6ad8fa6b",
   "metadata": {
    "ExecuteTime": {
     "end_time": "2021-10-08T05:11:40.534995Z",
     "start_time": "2021-10-08T05:11:40.495737Z"
    }
   },
   "outputs": [],
   "source": [
    "df.describe()"
   ]
  },
  {
   "cell_type": "markdown",
   "id": "8e0c60ba",
   "metadata": {},
   "source": [
    "## Data Visualization"
   ]
  },
  {
   "cell_type": "code",
   "execution_count": null,
   "id": "2ab30fde",
   "metadata": {
    "ExecuteTime": {
     "end_time": "2021-10-08T05:26:49.709183Z",
     "start_time": "2021-10-08T05:26:30.467852Z"
    }
   },
   "outputs": [],
   "source": [
    "import seaborn as sns"
   ]
  },
  {
   "cell_type": "code",
   "execution_count": null,
   "id": "b78221d6",
   "metadata": {
    "ExecuteTime": {
     "end_time": "2021-10-08T05:25:52.808604Z",
     "start_time": "2021-10-08T05:25:52.788575Z"
    }
   },
   "outputs": [],
   "source": [
    "num_columns = df.select_dtypes(include=np.number).columns\n",
    "num_columns"
   ]
  },
  {
   "cell_type": "code",
   "execution_count": null,
   "id": "b3191abb",
   "metadata": {
    "ExecuteTime": {
     "end_time": "2021-10-08T05:29:51.762091Z",
     "start_time": "2021-10-08T05:29:51.756092Z"
    }
   },
   "outputs": [],
   "source": [
    "col = df[num_columns[3]]"
   ]
  },
  {
   "cell_type": "code",
   "execution_count": null,
   "id": "d9f847f7",
   "metadata": {
    "ExecuteTime": {
     "end_time": "2021-10-08T05:29:52.392296Z",
     "start_time": "2021-10-08T05:29:52.128295Z"
    }
   },
   "outputs": [],
   "source": [
    "plt.figure(figsize=(9, 8))\n",
    "\n",
    "sns.distplot(col,\n",
    "             color='b',\n",
    "             bins=100,\n",
    "             hist_kws={'alpha': 0.4})"
   ]
  },
  {
   "cell_type": "markdown",
   "id": "80c7f037",
   "metadata": {
    "ExecuteTime": {
     "end_time": "2021-10-08T05:33:16.574027Z",
     "start_time": "2021-10-08T05:33:16.569028Z"
    }
   },
   "source": [
    "### Skewness and Kurtosis\n",
    "\n",
    "#### Skewness is a measure of symmetry, or more precisely, the lack of symmetry. A distribution, or data set, is symmetric if it looks the same to the left and right of the center point\n",
    "\n",
    "#### Kurtosis is a measure of whether the data are heavy-tailed or light-tailed relative to a normal distribution. It refers to the degree of presence of outliers in the distribution.\n",
    "\n",
    "<img src=\"img/skew.gif\" width=\"500\" align=\"center\" />\n",
    "\n",
    "<table><tr>\n",
    "<td> <img src=\"img/skew.jfif\" style=\"width: 250px;\"/> </td>\n",
    "<td> <img src=\"img/kurt.png\" style=\"width: 250px;\"/> </td>\n",
    "</tr></table>\n"
   ]
  },
  {
   "cell_type": "code",
   "execution_count": null,
   "id": "81284bad",
   "metadata": {
    "ExecuteTime": {
     "end_time": "2021-10-08T05:30:06.705182Z",
     "start_time": "2021-10-08T05:30:06.696185Z"
    }
   },
   "outputs": [],
   "source": [
    "print(\"Skewness: %f\" % col.skew())\n",
    "print(\"Kurtosis: %f\" % col.kurt())"
   ]
  },
  {
   "cell_type": "code",
   "execution_count": null,
   "id": "5e8965d4",
   "metadata": {},
   "outputs": [],
   "source": []
  },
  {
   "cell_type": "markdown",
   "id": "1c4b9961",
   "metadata": {},
   "source": [
    "## Handling outliers"
   ]
  },
  {
   "cell_type": "code",
   "execution_count": null,
   "id": "a1589ebd",
   "metadata": {
    "ExecuteTime": {
     "end_time": "2021-10-08T05:22:15.768703Z",
     "start_time": "2021-10-08T05:22:15.555704Z"
    }
   },
   "outputs": [],
   "source": [
    "plt.figure(figsize=(18, 9))\n",
    "\n",
    "# df[num_columns].boxplot()\n",
    "\n",
    "# df[['passengerid', 'age', 'fare']].boxplot()\n",
    "plt.title(\"Box plot: Numerical variables in Iris dataset\", fontsize=20)\n",
    "plt.show()"
   ]
  },
  {
   "cell_type": "code",
   "execution_count": null,
   "id": "0f5c38e1",
   "metadata": {
    "ExecuteTime": {
     "end_time": "2021-10-08T05:18:53.299340Z",
     "start_time": "2021-10-08T05:18:53.164341Z"
    }
   },
   "outputs": [],
   "source": [
    "df[['survived', 'pclass', 'sibsp', 'parch']].boxplot()\n",
    "plt.title(\"Box plot: Numerical variables in Iris dataset\", fontsize=20)\n",
    "plt.show()"
   ]
  },
  {
   "cell_type": "code",
   "execution_count": null,
   "id": "f39c6da2",
   "metadata": {},
   "outputs": [],
   "source": []
  },
  {
   "cell_type": "code",
   "execution_count": null,
   "id": "e01ae727",
   "metadata": {},
   "outputs": [],
   "source": []
  },
  {
   "cell_type": "code",
   "execution_count": null,
   "id": "c77f575c",
   "metadata": {},
   "outputs": [],
   "source": []
  },
  {
   "cell_type": "code",
   "execution_count": null,
   "id": "cad228f0",
   "metadata": {},
   "outputs": [],
   "source": [
    "plt.figure(figsize=(18,8))\n",
    "plt.xlabel(\"bra_size\", fontsize=18)\n",
    "plt.ylabel(\"size\", fontsize=18)\n",
    "plt.suptitle(\"Joint distribution of bra_size vs size\", fontsize= 20)\n",
    "plt.plot(mc_df.bra_size, mc_df['size'], 'bo', alpha=0.2)\n",
    "plt.show()\n"
   ]
  },
  {
   "cell_type": "code",
   "execution_count": null,
   "id": "f3d0d6b6",
   "metadata": {},
   "outputs": [],
   "source": []
  },
  {
   "cell_type": "code",
   "execution_count": null,
   "id": "21488bda",
   "metadata": {},
   "outputs": [],
   "source": []
  },
  {
   "cell_type": "code",
   "execution_count": null,
   "id": "e947cb51",
   "metadata": {},
   "outputs": [],
   "source": []
  },
  {
   "cell_type": "code",
   "execution_count": null,
   "id": "b7174ea6",
   "metadata": {},
   "outputs": [],
   "source": []
  },
  {
   "cell_type": "code",
   "execution_count": null,
   "id": "576849c0",
   "metadata": {},
   "outputs": [],
   "source": []
  },
  {
   "cell_type": "code",
   "execution_count": null,
   "id": "6def4a7c",
   "metadata": {},
   "outputs": [],
   "source": []
  },
  {
   "cell_type": "code",
   "execution_count": null,
   "id": "4179af7a",
   "metadata": {},
   "outputs": [],
   "source": []
  },
  {
   "cell_type": "code",
   "execution_count": null,
   "id": "6f451d0b",
   "metadata": {},
   "outputs": [],
   "source": []
  },
  {
   "cell_type": "markdown",
   "id": "2076e363",
   "metadata": {},
   "source": [
    "#### Resources used for creating this notebook:\n",
    "\n",
    "- https://github.com/learn-co-students/dsc-implementing-statistics-with-functions-lab-dc-ds-071519/blob/master/index.ipynb\n",
    "- https://archive.ics.uci.edu/ml/datasets/iris\n",
    "- https://www.kaggle.com/agrawaladitya/step-by-step-data-preprocessing-eda\n",
    "- https://www.kaggle.com/pmarcelino/comprehensive-data-exploration-with-python\n",
    "- https://www.kaggle.com/ekami66/detailed-exploratory-data-analysis-with-python\n",
    "- https://www.kaggle.com/mjamilmoughal/eda-of-titanic-dataset-with-python-analysis"
   ]
  },
  {
   "cell_type": "code",
   "execution_count": null,
   "id": "d6a2c345",
   "metadata": {},
   "outputs": [],
   "source": []
  }
 ],
 "metadata": {
  "kernelspec": {
   "display_name": "Python 3 (ipykernel)",
   "language": "python",
   "name": "python3"
  },
  "language_info": {
   "codemirror_mode": {
    "name": "ipython",
    "version": 3
   },
   "file_extension": ".py",
   "mimetype": "text/x-python",
   "name": "python",
   "nbconvert_exporter": "python",
   "pygments_lexer": "ipython3",
   "version": "3.9.5"
  },
  "toc": {
   "base_numbering": 1,
   "nav_menu": {},
   "number_sections": true,
   "sideBar": true,
   "skip_h1_title": false,
   "title_cell": "Table of Contents",
   "title_sidebar": "Contents",
   "toc_cell": false,
   "toc_position": {},
   "toc_section_display": true,
   "toc_window_display": false
  }
 },
 "nbformat": 4,
 "nbformat_minor": 5
}
