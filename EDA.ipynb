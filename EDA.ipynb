{
 "cells": [
  {
   "cell_type": "code",
   "execution_count": null,
   "id": "a409b1b2",
   "metadata": {
    "ExecuteTime": {
     "end_time": "2021-10-08T07:29:21.741735Z",
     "start_time": "2021-10-08T07:29:21.727736Z"
    }
   },
   "outputs": [],
   "source": [
    "from IPython.core.display import display, HTML\n",
    "display(HTML(\"<style>.container { width:100% !important; }</style>\"))\n",
    "\n",
    "import warnings\n",
    "warnings.filterwarnings('ignore')\n"
   ]
  },
  {
   "cell_type": "markdown",
   "id": "2b9d11a3",
   "metadata": {},
   "source": [
    "# Exploratory Data Analysis (EDA)"
   ]
  },
  {
   "cell_type": "markdown",
   "id": "b0b2c93f",
   "metadata": {
    "ExecuteTime": {
     "end_time": "2021-10-08T04:01:25.082558Z",
     "start_time": "2021-10-08T04:01:25.063559Z"
    }
   },
   "source": [
    "\n",
    "<img src=\"img/eda.png\" width=\"500\" align=\"center\" />\n",
    "\n",
    "Exploratory Data Analysis (EDA) is an approach/philosophy for data analysis that employs a variety of techniques (mostly graphical) to\n",
    "\n",
    "- maximize insight into a data set;\n",
    "- uncover underlying structure;\n",
    "- extract important variables;\n",
    "- detect outliers and anomalies;\n",
    "- test underlying assumptions;\n",
    "- develop parsimonious models; and󠀢\n",
    "- determine optimal factor settings.\n",
    "\n",
    "\n",
    "<a href=\"https://www.itl.nist.gov/div898/handbook/eda/section1/eda11.htm\">󠀢󠀢󠀢󠀢📖 NIST</a>"
   ]
  },
  {
   "cell_type": "markdown",
   "id": "cc1edda5",
   "metadata": {},
   "source": [
    "### Interactive links:\n",
    "\n",
    "- <a href=\"https://seeing-theory.brown.edu/index.html\">Seeing Theory</a>\n",
    "- <a href=\"http://mfviz.com/central-limit/\">Central Limit Theorem</a>\n"
   ]
  },
  {
   "cell_type": "markdown",
   "id": "e72be004",
   "metadata": {},
   "source": [
    "## Some statistical jargon:"
   ]
  },
  {
   "cell_type": "markdown",
   "id": "9b427e7f",
   "metadata": {},
   "source": [
    "<img src=\"img/ml.jpg\" width=\"600\"/>"
   ]
  },
  {
   "cell_type": "code",
   "execution_count": null,
   "id": "4eed4342",
   "metadata": {
    "ExecuteTime": {
     "end_time": "2021-10-08T07:29:22.500781Z",
     "start_time": "2021-10-08T07:29:21.742737Z"
    }
   },
   "outputs": [],
   "source": [
    "import numpy as np\n",
    "import pandas as pd\n",
    "import matplotlib.pyplot as plt"
   ]
  },
  {
   "cell_type": "code",
   "execution_count": null,
   "id": "faed36bd",
   "metadata": {
    "ExecuteTime": {
     "end_time": "2021-10-08T07:29:22.516735Z",
     "start_time": "2021-10-08T07:29:22.502736Z"
    }
   },
   "outputs": [],
   "source": [
    "plt.style.use('bmh')"
   ]
  },
  {
   "cell_type": "markdown",
   "id": "22738fbe",
   "metadata": {
    "ExecuteTime": {
     "end_time": "2021-10-08T04:38:53.345230Z",
     "start_time": "2021-10-08T04:38:53.341229Z"
    }
   },
   "source": [
    "### Expected value / Mean\n",
    "\n",
    "The **mean**, also referred to by statisticians as the average, is the most common statistic used to measure the center of a numerical data set. The mean is the sum of all the values in the data set divided by the number of values in the data set. The mean of the entire population is called the population mean, and the mean of a sample is called the sample mean.\n",
    "\n",
    "<font color='red'>The average is easily influenced by outliers (very small or large values in the data set that are not typical)<font/>\n",
    "\n",
    "$$ \\mu = \\Large \\bar{x} = \\frac{1}{n} \\sum_{i=1}^{n}x_i $$"
   ]
  },
  {
   "cell_type": "code",
   "execution_count": null,
   "id": "706fd981",
   "metadata": {
    "ExecuteTime": {
     "end_time": "2021-10-08T07:29:22.596767Z",
     "start_time": "2021-10-08T07:29:22.518738Z"
    }
   },
   "outputs": [],
   "source": [
    "lst = [1, 4, 3, 2, 6, 4, 4, 3, 2, 6]"
   ]
  },
  {
   "cell_type": "code",
   "execution_count": null,
   "id": "70d466d8",
   "metadata": {
    "ExecuteTime": {
     "end_time": "2021-10-08T07:29:22.660840Z",
     "start_time": "2021-10-08T07:29:22.598735Z"
    }
   },
   "outputs": [],
   "source": [
    "def mean(t):\n",
    "    return sum(t) / len(t)"
   ]
  },
  {
   "cell_type": "code",
   "execution_count": null,
   "id": "4c0b008f",
   "metadata": {
    "ExecuteTime": {
     "end_time": "2021-10-08T07:29:22.755350Z",
     "start_time": "2021-10-08T07:29:22.662736Z"
    }
   },
   "outputs": [],
   "source": [
    "mean(lst)"
   ]
  },
  {
   "cell_type": "code",
   "execution_count": null,
   "id": "9807b7b0",
   "metadata": {
    "ExecuteTime": {
     "end_time": "2021-10-08T07:29:22.882406Z",
     "start_time": "2021-10-08T07:29:22.758314Z"
    }
   },
   "outputs": [],
   "source": [
    "np.mean(lst)"
   ]
  },
  {
   "cell_type": "markdown",
   "id": "198e3f7a",
   "metadata": {},
   "source": [
    "### Median\n",
    "\n",
    "The **median** represents the middle value in a dataset. The median is important because it gives us an idea of where the center value is located in a dataset. The median tends to be more useful to calculate than the mean when a distribution is skewed and/or has outliers\n",
    "\n",
    "<img src=\"img/med.svg\" width=\"250\" align=\"center\" />"
   ]
  },
  {
   "cell_type": "code",
   "execution_count": null,
   "id": "97cd1057",
   "metadata": {
    "ExecuteTime": {
     "end_time": "2021-10-08T07:29:22.960649Z",
     "start_time": "2021-10-08T07:29:22.885408Z"
    }
   },
   "outputs": [],
   "source": [
    "def median(X):\n",
    "    n = len(X)\n",
    "    sortX = sorted(X)\n",
    "    \n",
    "    if n % 2 != 0:\n",
    "        return sortX[n // 2]\n",
    "    else:\n",
    "        return ( sortX[n // 2 - 1] + sortX[n // 2] ) / 2\n"
   ]
  },
  {
   "cell_type": "code",
   "execution_count": null,
   "id": "c91d7450",
   "metadata": {
    "ExecuteTime": {
     "end_time": "2021-10-08T07:29:23.024896Z",
     "start_time": "2021-10-08T07:29:22.962569Z"
    }
   },
   "outputs": [],
   "source": [
    "median(lst)"
   ]
  },
  {
   "cell_type": "code",
   "execution_count": null,
   "id": "157817c9",
   "metadata": {
    "ExecuteTime": {
     "end_time": "2021-10-08T07:29:23.103622Z",
     "start_time": "2021-10-08T07:29:23.026896Z"
    }
   },
   "outputs": [],
   "source": [
    "# lst1 = [0, 1, -1, -10, -16, -6]\n",
    "np.median(lst)\n",
    "# np.percentile(lst, 50)"
   ]
  },
  {
   "cell_type": "markdown",
   "id": "b26c845d",
   "metadata": {
    "ExecuteTime": {
     "end_time": "2021-10-08T04:40:09.735007Z",
     "start_time": "2021-10-08T04:40:09.729038Z"
    }
   },
   "source": [
    "### Variance\n",
    "\n",
    "In statistics, scientists and statisticians use the **variance** to determine how well the mean represents an entire set of data. For instance, the higher the variance, the more range exists within the set\n",
    "\n",
    "https://en.wikipedia.org/wiki/Bessel%27s_correction\n",
    "\n",
    "$$ \\Large s^2 = \\frac{1}{n} \\sum_{i=1}^{n}(x_i - \\bar{x})^2 $$"
   ]
  },
  {
   "cell_type": "code",
   "execution_count": null,
   "id": "b2c1b1bd",
   "metadata": {
    "ExecuteTime": {
     "end_time": "2021-10-08T07:29:23.166881Z",
     "start_time": "2021-10-08T07:29:23.104591Z"
    }
   },
   "outputs": [],
   "source": [
    "def variance(t):\n",
    "    mu = mean(t)\n",
    "    return sum((x - mu) ** 2 for x in t) / len(t)"
   ]
  },
  {
   "cell_type": "code",
   "execution_count": null,
   "id": "fb7e694b",
   "metadata": {
    "ExecuteTime": {
     "end_time": "2021-10-08T07:29:23.244120Z",
     "start_time": "2021-10-08T07:29:23.169779Z"
    }
   },
   "outputs": [],
   "source": [
    "variance(lst)"
   ]
  },
  {
   "cell_type": "code",
   "execution_count": null,
   "id": "934bb955",
   "metadata": {
    "ExecuteTime": {
     "end_time": "2021-10-08T07:29:23.307295Z",
     "start_time": "2021-10-08T07:29:23.245014Z"
    }
   },
   "outputs": [],
   "source": [
    "np.var(lst)"
   ]
  },
  {
   "cell_type": "markdown",
   "id": "2dee5129",
   "metadata": {
    "ExecuteTime": {
     "end_time": "2021-10-08T04:40:10.033255Z",
     "start_time": "2021-10-08T04:40:10.025262Z"
    }
   },
   "source": [
    "### Standard Deviation\n",
    "\n",
    "A **standard deviation** (or σ) is a measure of how dispersed the data is in relation to the mean. Low standard deviation means data are clustered around the mean, and high standard deviation indicates data are more spread out.\n",
    "\n",
    "$$ \\Large s = \\sqrt{\\frac{1}{n} \\sum_{i=1}^{n}(x_i - \\bar{x})^2} $$\n",
    "\n",
    "<img src=\"img/std.jfif\" width=\"500\" align=\"center\" />"
   ]
  },
  {
   "cell_type": "code",
   "execution_count": null,
   "id": "ad3f866d",
   "metadata": {
    "ExecuteTime": {
     "end_time": "2021-10-08T07:29:23.384763Z",
     "start_time": "2021-10-08T07:29:23.308334Z"
    }
   },
   "outputs": [],
   "source": [
    "def std(t):\n",
    "    return variance(t) ** 0.5"
   ]
  },
  {
   "cell_type": "code",
   "execution_count": null,
   "id": "3f48aac8",
   "metadata": {
    "ExecuteTime": {
     "end_time": "2021-10-08T07:29:23.447202Z",
     "start_time": "2021-10-08T07:29:23.385662Z"
    }
   },
   "outputs": [],
   "source": [
    "std(lst)"
   ]
  },
  {
   "cell_type": "code",
   "execution_count": null,
   "id": "f83e665d",
   "metadata": {
    "ExecuteTime": {
     "end_time": "2021-10-08T07:29:23.524109Z",
     "start_time": "2021-10-08T07:29:23.448174Z"
    }
   },
   "outputs": [],
   "source": [
    "np.std(lst)"
   ]
  },
  {
   "cell_type": "markdown",
   "id": "3b6e8c37",
   "metadata": {},
   "source": [
    "### Mode"
   ]
  },
  {
   "cell_type": "code",
   "execution_count": null,
   "id": "448b5ace",
   "metadata": {
    "ExecuteTime": {
     "end_time": "2021-10-08T07:29:24.000101Z",
     "start_time": "2021-10-08T07:29:23.525149Z"
    }
   },
   "outputs": [],
   "source": [
    "from scipy import stats\n",
    "\n",
    "stats.mode(lst).mode"
   ]
  },
  {
   "cell_type": "markdown",
   "id": "017ad585",
   "metadata": {},
   "source": [
    "## Preparations"
   ]
  },
  {
   "cell_type": "markdown",
   "id": "ec4b30dc",
   "metadata": {},
   "source": []
  },
  {
   "cell_type": "code",
   "execution_count": null,
   "id": "28539e4e",
   "metadata": {
    "ExecuteTime": {
     "end_time": "2021-10-08T07:29:24.016102Z",
     "start_time": "2021-10-08T07:29:24.002104Z"
    }
   },
   "outputs": [],
   "source": [
    "df = pd.read_csv('data/Iris.csv')"
   ]
  },
  {
   "cell_type": "code",
   "execution_count": null,
   "id": "88b411ae",
   "metadata": {
    "ExecuteTime": {
     "end_time": "2021-10-08T07:29:24.110788Z",
     "start_time": "2021-10-08T07:29:24.017103Z"
    }
   },
   "outputs": [],
   "source": [
    "df.head()"
   ]
  },
  {
   "cell_type": "code",
   "execution_count": null,
   "id": "f934b440",
   "metadata": {
    "ExecuteTime": {
     "end_time": "2021-10-08T07:29:24.282060Z",
     "start_time": "2021-10-08T07:29:24.112756Z"
    }
   },
   "outputs": [],
   "source": [
    "df.tail(1)"
   ]
  },
  {
   "cell_type": "code",
   "execution_count": null,
   "id": "bd818e0f",
   "metadata": {
    "ExecuteTime": {
     "end_time": "2021-10-08T07:29:24.362029Z",
     "start_time": "2021-10-08T07:29:24.283030Z"
    }
   },
   "outputs": [],
   "source": [
    "df.columns"
   ]
  },
  {
   "cell_type": "code",
   "execution_count": null,
   "id": "cdbced51",
   "metadata": {
    "ExecuteTime": {
     "end_time": "2021-10-08T07:29:24.441580Z",
     "start_time": "2021-10-08T07:29:24.363053Z"
    }
   },
   "outputs": [],
   "source": [
    "df.columns = df.columns.str.lower()"
   ]
  },
  {
   "cell_type": "code",
   "execution_count": null,
   "id": "59d9a128",
   "metadata": {
    "ExecuteTime": {
     "end_time": "2021-10-08T07:29:24.552896Z",
     "start_time": "2021-10-08T07:29:24.442475Z"
    }
   },
   "outputs": [],
   "source": [
    "df.info()"
   ]
  },
  {
   "cell_type": "code",
   "execution_count": null,
   "id": "8413ebe5",
   "metadata": {
    "ExecuteTime": {
     "end_time": "2021-10-08T07:29:24.648141Z",
     "start_time": "2021-10-08T07:29:24.554897Z"
    }
   },
   "outputs": [],
   "source": [
    "missing_data = pd.DataFrame({\n",
    "    'total_missing': df.isnull().sum(),\n",
    "    'perc_missing': (df.isnull().sum()/df.shape[0]) * 100\n",
    "})\n",
    "\n",
    "missing_data.sort_values(by='perc_missing', ascending=False)"
   ]
  },
  {
   "cell_type": "code",
   "execution_count": null,
   "id": "6ad8fa6b",
   "metadata": {
    "ExecuteTime": {
     "end_time": "2021-10-08T07:29:24.741404Z",
     "start_time": "2021-10-08T07:29:24.649112Z"
    }
   },
   "outputs": [],
   "source": [
    "df.describe()"
   ]
  },
  {
   "cell_type": "markdown",
   "id": "59b2db81",
   "metadata": {},
   "source": [
    "## Data Visualization"
   ]
  },
  {
   "cell_type": "code",
   "execution_count": null,
   "id": "35322915",
   "metadata": {
    "ExecuteTime": {
     "end_time": "2021-10-08T07:29:24.881721Z",
     "start_time": "2021-10-08T07:29:24.743405Z"
    }
   },
   "outputs": [],
   "source": [
    "import seaborn as sns"
   ]
  },
  {
   "cell_type": "code",
   "execution_count": null,
   "id": "8b2027be",
   "metadata": {
    "ExecuteTime": {
     "end_time": "2021-10-08T07:29:24.912924Z",
     "start_time": "2021-10-08T07:29:24.883724Z"
    }
   },
   "outputs": [],
   "source": [
    "num_columns = df.select_dtypes(include=np.number).columns\n",
    "num_columns"
   ]
  },
  {
   "cell_type": "code",
   "execution_count": null,
   "id": "a9d858f1",
   "metadata": {
    "ExecuteTime": {
     "end_time": "2021-10-08T07:29:24.992245Z",
     "start_time": "2021-10-08T07:29:24.915924Z"
    }
   },
   "outputs": [],
   "source": [
    "col = df[num_columns[3]]"
   ]
  },
  {
   "cell_type": "code",
   "execution_count": null,
   "id": "edbde4d6",
   "metadata": {
    "ExecuteTime": {
     "end_time": "2021-10-08T07:29:25.375035Z",
     "start_time": "2021-10-08T07:29:24.996187Z"
    }
   },
   "outputs": [],
   "source": [
    "plt.figure(figsize=(9, 8))\n",
    "\n",
    "sns.distplot(col,\n",
    "             color='b',\n",
    "             bins=100,\n",
    "             hist_kws={'alpha': 0.4})\n",
    "\n"
   ]
  },
  {
   "cell_type": "markdown",
   "id": "4b4f1cf7",
   "metadata": {
    "ExecuteTime": {
     "end_time": "2021-10-08T05:33:16.574027Z",
     "start_time": "2021-10-08T05:33:16.569028Z"
    }
   },
   "source": [
    "### Skewness and Kurtosis\n",
    "\n",
    "#### Skewness is a measure of symmetry, or more precisely, the lack of symmetry. A distribution, or data set, is symmetric if it looks the same to the left and right of the center point\n",
    "\n",
    "#### Kurtosis is a measure of whether the data are heavy-tailed or light-tailed relative to a normal distribution. It refers to the degree of presence of outliers in the distribution.\n",
    "\n",
    "<img src=\"img/skew.gif\" width=\"500\" align=\"center\" />\n",
    "\n",
    "<table><tr>\n",
    "<td> <img src=\"img/skew.jfif\" style=\"width: 250px;\"/> </td>\n",
    "<td> <img src=\"img/kurt.png\" style=\"width: 250px;\"/> </td>\n",
    "</tr></table>\n"
   ]
  },
  {
   "cell_type": "code",
   "execution_count": null,
   "id": "86b41340",
   "metadata": {
    "ExecuteTime": {
     "end_time": "2021-10-08T07:29:25.391037Z",
     "start_time": "2021-10-08T07:29:25.375930Z"
    }
   },
   "outputs": [],
   "source": [
    "print(\"Skewness: %f\" % col.skew())\n",
    "print(\"Kurtosis: %f\" % col.kurt())"
   ]
  },
  {
   "cell_type": "markdown",
   "id": "df4f4b4c",
   "metadata": {},
   "source": [
    "## Handling outliers"
   ]
  },
  {
   "cell_type": "code",
   "execution_count": null,
   "id": "a1589ebd",
   "metadata": {
    "ExecuteTime": {
     "end_time": "2021-10-08T07:29:25.645318Z",
     "start_time": "2021-10-08T07:29:25.392931Z"
    }
   },
   "outputs": [],
   "source": [
    "plt.figure(figsize=(18, 9))\n",
    "\n",
    "df[['sepallengthcm', 'sepalwidthcm', 'petallengthcm', 'petalwidthcm']].boxplot()\n",
    "\n",
    "plt.title(\"Box plot: Numerical variables in Iris dataset\", fontsize=20)\n",
    "plt.show()"
   ]
  },
  {
   "cell_type": "markdown",
   "id": "732670cb",
   "metadata": {},
   "source": [
    "## Correlation\n",
    "\n",
    "In statistics, **correlation** or dependence is any statistical relationship, whether causal or not, between two random variables or bivariate data\n",
    "\n",
    "Pearson's correlation coefficient is a measure of linear correlation between two sets of data. It is the ratio between the covariance of two variables and the product of their standard deviations; thus it is essentially a normalised measurement of the covariance, such that the result always has a value between −1 and 1\n",
    "\n",
    "<img src=\"img/r.jfif\" width=\"500px\"/>"
   ]
  },
  {
   "cell_type": "code",
   "execution_count": null,
   "id": "e7b04e42",
   "metadata": {
    "ExecuteTime": {
     "end_time": "2021-10-08T07:29:25.820347Z",
     "start_time": "2021-10-08T07:29:25.647343Z"
    }
   },
   "outputs": [],
   "source": [
    "fig = plt.gcf()\n",
    "fig.set_size_inches(20,10)\n",
    "__ = sns.violinplot(x='species', y='sepalwidthcm',data=df, size = 20)"
   ]
  },
  {
   "cell_type": "code",
   "execution_count": null,
   "id": "412f4ffb",
   "metadata": {
    "ExecuteTime": {
     "end_time": "2021-10-08T07:29:25.836351Z",
     "start_time": "2021-10-08T07:29:25.821319Z"
    }
   },
   "outputs": [],
   "source": [
    "df_num = df[['sepallengthcm', 'sepalwidthcm', 'petallengthcm', 'petalwidthcm']]"
   ]
  },
  {
   "cell_type": "code",
   "execution_count": null,
   "id": "41aa10a5",
   "metadata": {
    "ExecuteTime": {
     "end_time": "2021-10-08T07:29:26.296838Z",
     "start_time": "2021-10-08T07:29:25.838330Z"
    }
   },
   "outputs": [],
   "source": [
    "col = 'sepallengthcm'\n",
    "sns.pairplot(data=df_num,\n",
    "            x_vars=df_num.columns.difference([col]),\n",
    "            y_vars=[col])\n"
   ]
  },
  {
   "cell_type": "code",
   "execution_count": null,
   "id": "8917bb97",
   "metadata": {
    "ExecuteTime": {
     "end_time": "2021-10-08T07:29:26.312842Z",
     "start_time": "2021-10-08T07:29:26.298813Z"
    }
   },
   "outputs": [],
   "source": [
    "df_num.columns"
   ]
  },
  {
   "cell_type": "code",
   "execution_count": null,
   "id": "1d0b657c",
   "metadata": {
    "ExecuteTime": {
     "end_time": "2021-10-08T07:29:26.390959Z",
     "start_time": "2021-10-08T07:29:26.314810Z"
    }
   },
   "outputs": [],
   "source": [
    "corr_matrix = df_num.corr().abs()\n",
    "corr_matrix"
   ]
  },
  {
   "cell_type": "code",
   "execution_count": null,
   "id": "d0039d96",
   "metadata": {
    "ExecuteTime": {
     "end_time": "2021-10-08T07:29:26.693698Z",
     "start_time": "2021-10-08T07:29:26.392956Z"
    }
   },
   "outputs": [],
   "source": [
    "corr = df_num.corr()\n",
    "\n",
    "plt.figure(figsize=(12, 10))\n",
    "\n",
    "sns.heatmap(corr[(corr >= 0.5) | (corr <= -0.4)], \n",
    "            cmap='viridis', vmax=1.0, vmin=-1.0, linewidths=0.1,\n",
    "            annot=True, annot_kws={\"size\": 8}, square=True);\n"
   ]
  },
  {
   "cell_type": "code",
   "execution_count": null,
   "id": "1ed9a7d7",
   "metadata": {
    "ExecuteTime": {
     "end_time": "2021-10-08T07:29:26.709695Z",
     "start_time": "2021-10-08T07:29:26.695619Z"
    }
   },
   "outputs": [],
   "source": [
    "# Select upper triangle of correlation matrix\n",
    "upper = corr_matrix.where(np.triu(np.ones(corr_matrix.shape), k=1).astype(np.bool))\n",
    "\n",
    "# Find features with correlation greater than 0.95\n",
    "features_to_analyse = [column for column in upper.columns if not any(upper[column] > 0.95)]\n"
   ]
  },
  {
   "cell_type": "code",
   "execution_count": null,
   "id": "534a997f",
   "metadata": {
    "ExecuteTime": {
     "end_time": "2021-10-08T07:29:26.788615Z",
     "start_time": "2021-10-08T07:29:26.713594Z"
    }
   },
   "outputs": [],
   "source": [
    "from itertools import combinations\n"
   ]
  },
  {
   "cell_type": "code",
   "execution_count": null,
   "id": "95e0a150",
   "metadata": {
    "ExecuteTime": {
     "end_time": "2021-10-08T07:29:39.471103Z",
     "start_time": "2021-10-08T07:29:38.785077Z"
    },
    "scrolled": false
   },
   "outputs": [],
   "source": [
    "fig, ax = plt.subplots(1, 3, figsize = (18, 12))\n",
    "\n",
    "for ax, (c1, c2) in zip(fig.axes, combinations(features_to_analyse, 2)):\n",
    "       sns.regplot(x=c1, y=c2, data=df[features_to_analyse], ax=ax)"
   ]
  },
  {
   "cell_type": "markdown",
   "id": "2076e363",
   "metadata": {},
   "source": [
    "#### Resources used for creating this notebook:\n",
    "\n",
    "- https://github.com/learn-co-students/dsc-implementing-statistics-with-functions-lab-dc-ds-071519/blob/master/index.ipynb\n",
    "- https://archive.ics.uci.edu/ml/datasets/iris\n",
    "- https://www.kaggle.com/agrawaladitya/step-by-step-data-preprocessing-eda\n",
    "- https://www.kaggle.com/pmarcelino/comprehensive-data-exploration-with-python\n",
    "- https://www.kaggle.com/ekami66/detailed-exploratory-data-analysis-with-python\n",
    "- https://www.kaggle.com/mjamilmoughal/eda-of-titanic-dataset-with-python-analysis"
   ]
  }
 ],
 "metadata": {
  "kernelspec": {
   "display_name": "Python 3 (ipykernel)",
   "language": "python",
   "name": "python3"
  },
  "language_info": {
   "codemirror_mode": {
    "name": "ipython",
    "version": 3
   },
   "file_extension": ".py",
   "mimetype": "text/x-python",
   "name": "python",
   "nbconvert_exporter": "python",
   "pygments_lexer": "ipython3",
   "version": "3.9.5"
  },
  "toc": {
   "base_numbering": 1,
   "nav_menu": {},
   "number_sections": true,
   "sideBar": true,
   "skip_h1_title": false,
   "title_cell": "Table of Contents",
   "title_sidebar": "Contents",
   "toc_cell": false,
   "toc_position": {},
   "toc_section_display": true,
   "toc_window_display": false
  }
 },
 "nbformat": 4,
 "nbformat_minor": 5
}
