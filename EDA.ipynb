{
 "cells": [
  {
   "cell_type": "code",
   "execution_count": 63,
   "id": "a409b1b2",
   "metadata": {
    "ExecuteTime": {
     "end_time": "2021-10-08T06:06:18.895460Z",
     "start_time": "2021-10-08T06:06:18.891488Z"
    }
   },
   "outputs": [
    {
     "data": {
      "text/html": [
       "<style>.container { width:100% !important; }</style>"
      ],
      "text/plain": [
       "<IPython.core.display.HTML object>"
      ]
     },
     "metadata": {},
     "output_type": "display_data"
    }
   ],
   "source": [
    "from IPython.core.display import display, HTML\n",
    "display(HTML(\"<style>.container { width:100% !important; }</style>\"))\n",
    "\n",
    "import warnings\n",
    "warnings.filterwarnings('ignore')\n"
   ]
  },
  {
   "cell_type": "markdown",
   "id": "2b9d11a3",
   "metadata": {},
   "source": [
    "# Exploratory Data Analysis (EDA)"
   ]
  },
  {
   "cell_type": "markdown",
   "id": "b0b2c93f",
   "metadata": {
    "ExecuteTime": {
     "end_time": "2021-10-08T04:01:25.082558Z",
     "start_time": "2021-10-08T04:01:25.063559Z"
    }
   },
   "source": [
    "\n",
    "<img src=\"img/eda.png\" width=\"500\" align=\"center\" />\n",
    "\n",
    "Exploratory Data Analysis (EDA) is an approach/philosophy for data analysis that employs a variety of techniques (mostly graphical) to\n",
    "\n",
    "- maximize insight into a data set;\n",
    "- uncover underlying structure;\n",
    "- extract important variables;\n",
    "- detect outliers and anomalies;\n",
    "- test underlying assumptions;\n",
    "- develop parsimonious models; and󠀢\n",
    "- determine optimal factor settings.\n",
    "\n",
    "\n",
    "<a href=\"https://www.itl.nist.gov/div898/handbook/eda/section1/eda11.htm\">󠀢󠀢󠀢󠀢📖 NIST</a>"
   ]
  },
  {
   "cell_type": "markdown",
   "id": "cc1edda5",
   "metadata": {},
   "source": [
    "### Interactive links:\n",
    "\n",
    "- <a href=\"https://seeing-theory.brown.edu/index.html\">Seeing Theory</a>\n",
    "- <a href=\"http://mfviz.com/central-limit/\">Central Limit Theorem</a>\n"
   ]
  },
  {
   "cell_type": "markdown",
   "id": "e72be004",
   "metadata": {},
   "source": [
    "## Some statistical jargon:"
   ]
  },
  {
   "cell_type": "markdown",
   "id": "22738fbe",
   "metadata": {
    "ExecuteTime": {
     "end_time": "2021-10-08T04:38:53.345230Z",
     "start_time": "2021-10-08T04:38:53.341229Z"
    }
   },
   "source": [
    "### Expected value / Mean\n",
    "\n",
    "The **mean**, also referred to by statisticians as the average, is the most common statistic used to measure the center of a numerical data set. The mean is the sum of all the values in the data set divided by the number of values in the data set. The mean of the entire population is called the population mean, and the mean of a sample is called the sample mean.\n",
    "\n",
    "<font color='red'>The average is easily influenced by outliers (very small or large values in the data set that are not typical)<font/>\n",
    "\n",
    "$$ \\mu = \\Large \\bar{x} = \\frac{1}{n} \\sum_{i=1}^{n}x_i $$"
   ]
  },
  {
   "cell_type": "code",
   "execution_count": 154,
   "id": "706fd981",
   "metadata": {
    "ExecuteTime": {
     "end_time": "2021-10-08T06:37:40.529483Z",
     "start_time": "2021-10-08T06:37:40.526484Z"
    }
   },
   "outputs": [],
   "source": [
    "lst = [1, 4, 3, 2, 6, 4, 4, 3, 2, 6]"
   ]
  },
  {
   "cell_type": "code",
   "execution_count": null,
   "id": "70d466d8",
   "metadata": {
    "ExecuteTime": {
     "end_time": "2021-10-08T04:38:38.937934Z",
     "start_time": "2021-10-08T04:38:38.932929Z"
    }
   },
   "outputs": [],
   "source": [
    "def mean(t):\n",
    "    return sum(t) / len(t)"
   ]
  },
  {
   "cell_type": "code",
   "execution_count": null,
   "id": "4c0b008f",
   "metadata": {
    "ExecuteTime": {
     "end_time": "2021-10-08T04:38:39.202883Z",
     "start_time": "2021-10-08T04:38:39.184852Z"
    }
   },
   "outputs": [],
   "source": [
    "mean(lst)"
   ]
  },
  {
   "cell_type": "code",
   "execution_count": null,
   "id": "9807b7b0",
   "metadata": {
    "ExecuteTime": {
     "end_time": "2021-10-08T04:38:17.739072Z",
     "start_time": "2021-10-08T04:38:15.498597Z"
    }
   },
   "outputs": [],
   "source": [
    "np.mean(lst)"
   ]
  },
  {
   "cell_type": "markdown",
   "id": "198e3f7a",
   "metadata": {},
   "source": [
    "### Median\n",
    "\n",
    "The **median** represents the middle value in a dataset. The median is important because it gives us an idea of where the center value is located in a dataset. The median tends to be more useful to calculate than the mean when a distribution is skewed and/or has outliers\n",
    "\n",
    "<img src=\"img/med.svg\" width=\"250\" align=\"center\" />"
   ]
  },
  {
   "cell_type": "code",
   "execution_count": 146,
   "id": "97cd1057",
   "metadata": {
    "ExecuteTime": {
     "end_time": "2021-10-08T06:37:18.612457Z",
     "start_time": "2021-10-08T06:37:18.597456Z"
    }
   },
   "outputs": [],
   "source": [
    "def median(X):\n",
    "    n = len(X)\n",
    "    sortX = sorted(X)\n",
    "    \n",
    "    if n % 2 != 0:\n",
    "        return sortX[n // 2]\n",
    "    else:\n",
    "        return ( sortX[n // 2 - 1] + sortX[n // 2] ) / 2\n"
   ]
  },
  {
   "cell_type": "code",
   "execution_count": 155,
   "id": "c91d7450",
   "metadata": {
    "ExecuteTime": {
     "end_time": "2021-10-08T06:37:42.331825Z",
     "start_time": "2021-10-08T06:37:42.321856Z"
    }
   },
   "outputs": [
    {
     "data": {
      "text/plain": [
       "4"
      ]
     },
     "execution_count": 155,
     "metadata": {},
     "output_type": "execute_result"
    }
   ],
   "source": [
    "median(lst)"
   ]
  },
  {
   "cell_type": "code",
   "execution_count": 156,
   "id": "157817c9",
   "metadata": {
    "ExecuteTime": {
     "end_time": "2021-10-08T06:37:43.158995Z",
     "start_time": "2021-10-08T06:37:43.154025Z"
    }
   },
   "outputs": [
    {
     "data": {
      "text/plain": [
       "4.0"
      ]
     },
     "execution_count": 156,
     "metadata": {},
     "output_type": "execute_result"
    }
   ],
   "source": [
    "# lst1 = [0, 1, -1, -10, -16, -6]\n",
    "np.median(lst)\n",
    "# np.percentile(lst, 50)"
   ]
  },
  {
   "cell_type": "markdown",
   "id": "b26c845d",
   "metadata": {
    "ExecuteTime": {
     "end_time": "2021-10-08T04:40:09.735007Z",
     "start_time": "2021-10-08T04:40:09.729038Z"
    }
   },
   "source": [
    "### Variance\n",
    "\n",
    "In statistics, scientists and statisticians use the **variance** to determine how well the mean represents an entire set of data. For instance, the higher the variance, the more range exists within the set\n",
    "\n",
    "https://en.wikipedia.org/wiki/Bessel%27s_correction\n",
    "\n",
    "$$ \\Large s^2 = \\frac{1}{n} \\sum_{i=1}^{n}(x_i - \\bar{x})^2 $$"
   ]
  },
  {
   "cell_type": "code",
   "execution_count": 67,
   "id": "b2c1b1bd",
   "metadata": {
    "ExecuteTime": {
     "end_time": "2021-10-08T06:11:08.013508Z",
     "start_time": "2021-10-08T06:11:08.009506Z"
    }
   },
   "outputs": [],
   "source": [
    "def variance(t):\n",
    "    mu = mean(t)\n",
    "    return sum((x - mu) ** 2 for x in t) / len(t)"
   ]
  },
  {
   "cell_type": "code",
   "execution_count": 68,
   "id": "fb7e694b",
   "metadata": {
    "ExecuteTime": {
     "end_time": "2021-10-08T06:11:09.185213Z",
     "start_time": "2021-10-08T06:11:09.169215Z"
    }
   },
   "outputs": [
    {
     "data": {
      "text/plain": [
       "2.45"
      ]
     },
     "execution_count": 68,
     "metadata": {},
     "output_type": "execute_result"
    }
   ],
   "source": [
    "variance(lst)"
   ]
  },
  {
   "cell_type": "code",
   "execution_count": 66,
   "id": "934bb955",
   "metadata": {
    "ExecuteTime": {
     "end_time": "2021-10-08T06:11:02.807057Z",
     "start_time": "2021-10-08T06:11:02.798061Z"
    }
   },
   "outputs": [
    {
     "data": {
      "text/plain": [
       "2.45"
      ]
     },
     "execution_count": 66,
     "metadata": {},
     "output_type": "execute_result"
    }
   ],
   "source": [
    "np.var(lst)"
   ]
  },
  {
   "cell_type": "markdown",
   "id": "2dee5129",
   "metadata": {
    "ExecuteTime": {
     "end_time": "2021-10-08T04:40:10.033255Z",
     "start_time": "2021-10-08T04:40:10.025262Z"
    }
   },
   "source": [
    "### Standard Deviation\n",
    "\n",
    "A **standard deviation** (or σ) is a measure of how dispersed the data is in relation to the mean. Low standard deviation means data are clustered around the mean, and high standard deviation indicates data are more spread out.\n",
    "\n",
    "$$ \\Large s = \\sqrt{\\frac{1}{n} \\sum_{i=1}^{n}(x_i - \\bar{x})^2} $$\n",
    "\n",
    "<img src=\"img/std.jfif\" width=\"500\" align=\"center\" />"
   ]
  },
  {
   "cell_type": "code",
   "execution_count": 71,
   "id": "ad3f866d",
   "metadata": {
    "ExecuteTime": {
     "end_time": "2021-10-08T06:13:47.385103Z",
     "start_time": "2021-10-08T06:13:47.378106Z"
    }
   },
   "outputs": [],
   "source": [
    "def std(t):\n",
    "    return variance(t) ** 0.5"
   ]
  },
  {
   "cell_type": "code",
   "execution_count": 72,
   "id": "3f48aac8",
   "metadata": {
    "ExecuteTime": {
     "end_time": "2021-10-08T06:13:47.634785Z",
     "start_time": "2021-10-08T06:13:47.629785Z"
    }
   },
   "outputs": [
    {
     "data": {
      "text/plain": [
       "1.5652475842498528"
      ]
     },
     "execution_count": 72,
     "metadata": {},
     "output_type": "execute_result"
    }
   ],
   "source": [
    "std(lst)"
   ]
  },
  {
   "cell_type": "code",
   "execution_count": 73,
   "id": "f83e665d",
   "metadata": {
    "ExecuteTime": {
     "end_time": "2021-10-08T06:14:00.545122Z",
     "start_time": "2021-10-08T06:14:00.530123Z"
    }
   },
   "outputs": [
    {
     "data": {
      "text/plain": [
       "1.5652475842498528"
      ]
     },
     "execution_count": 73,
     "metadata": {},
     "output_type": "execute_result"
    }
   ],
   "source": [
    "np.std(lst)"
   ]
  },
  {
   "cell_type": "markdown",
   "id": "3b6e8c37",
   "metadata": {},
   "source": [
    "### Mode"
   ]
  },
  {
   "cell_type": "code",
   "execution_count": 176,
   "id": "448b5ace",
   "metadata": {
    "ExecuteTime": {
     "end_time": "2021-10-08T06:41:45.091843Z",
     "start_time": "2021-10-08T06:41:45.073813Z"
    }
   },
   "outputs": [
    {
     "data": {
      "text/plain": [
       "array([4])"
      ]
     },
     "execution_count": 176,
     "metadata": {},
     "output_type": "execute_result"
    }
   ],
   "source": [
    "from scipy import stats\n",
    "\n",
    "stats.mode(lst).mode"
   ]
  },
  {
   "cell_type": "markdown",
   "id": "017ad585",
   "metadata": {},
   "source": [
    "## Preparations"
   ]
  },
  {
   "cell_type": "markdown",
   "id": "9b427e7f",
   "metadata": {},
   "source": [
    "<img src=\"img/ml.jpg\" width=\"600\"/>"
   ]
  },
  {
   "cell_type": "code",
   "execution_count": 157,
   "id": "4eed4342",
   "metadata": {
    "ExecuteTime": {
     "end_time": "2021-10-08T06:39:23.115869Z",
     "start_time": "2021-10-08T06:39:23.096902Z"
    }
   },
   "outputs": [],
   "source": [
    "import numpy as np\n",
    "import pandas as pd\n",
    "import matplotlib.pyplot as plt"
   ]
  },
  {
   "cell_type": "code",
   "execution_count": 158,
   "id": "faed36bd",
   "metadata": {
    "ExecuteTime": {
     "end_time": "2021-10-08T06:39:23.675738Z",
     "start_time": "2021-10-08T06:39:23.661705Z"
    }
   },
   "outputs": [],
   "source": [
    "plt.style.use('bmh')"
   ]
  },
  {
   "cell_type": "code",
   "execution_count": 159,
   "id": "28539e4e",
   "metadata": {
    "ExecuteTime": {
     "end_time": "2021-10-08T06:39:24.706288Z",
     "start_time": "2021-10-08T06:39:24.697254Z"
    }
   },
   "outputs": [],
   "source": [
    "df = pd.read_csv('data/Iris.csv')"
   ]
  },
  {
   "cell_type": "code",
   "execution_count": 160,
   "id": "88b411ae",
   "metadata": {
    "ExecuteTime": {
     "end_time": "2021-10-08T06:39:25.285449Z",
     "start_time": "2021-10-08T06:39:25.273450Z"
    }
   },
   "outputs": [
    {
     "data": {
      "text/html": [
       "<div>\n",
       "<style scoped>\n",
       "    .dataframe tbody tr th:only-of-type {\n",
       "        vertical-align: middle;\n",
       "    }\n",
       "\n",
       "    .dataframe tbody tr th {\n",
       "        vertical-align: top;\n",
       "    }\n",
       "\n",
       "    .dataframe thead th {\n",
       "        text-align: right;\n",
       "    }\n",
       "</style>\n",
       "<table border=\"1\" class=\"dataframe\">\n",
       "  <thead>\n",
       "    <tr style=\"text-align: right;\">\n",
       "      <th></th>\n",
       "      <th>Id</th>\n",
       "      <th>SepalLengthCm</th>\n",
       "      <th>SepalWidthCm</th>\n",
       "      <th>PetalLengthCm</th>\n",
       "      <th>PetalWidthCm</th>\n",
       "      <th>Species</th>\n",
       "    </tr>\n",
       "  </thead>\n",
       "  <tbody>\n",
       "    <tr>\n",
       "      <th>0</th>\n",
       "      <td>1</td>\n",
       "      <td>5.1</td>\n",
       "      <td>3.5</td>\n",
       "      <td>1.4</td>\n",
       "      <td>0.2</td>\n",
       "      <td>Iris-setosa</td>\n",
       "    </tr>\n",
       "    <tr>\n",
       "      <th>1</th>\n",
       "      <td>2</td>\n",
       "      <td>4.9</td>\n",
       "      <td>3.0</td>\n",
       "      <td>1.4</td>\n",
       "      <td>0.2</td>\n",
       "      <td>Iris-setosa</td>\n",
       "    </tr>\n",
       "    <tr>\n",
       "      <th>2</th>\n",
       "      <td>3</td>\n",
       "      <td>4.7</td>\n",
       "      <td>3.2</td>\n",
       "      <td>1.3</td>\n",
       "      <td>0.2</td>\n",
       "      <td>Iris-setosa</td>\n",
       "    </tr>\n",
       "    <tr>\n",
       "      <th>3</th>\n",
       "      <td>4</td>\n",
       "      <td>4.6</td>\n",
       "      <td>3.1</td>\n",
       "      <td>1.5</td>\n",
       "      <td>0.2</td>\n",
       "      <td>Iris-setosa</td>\n",
       "    </tr>\n",
       "    <tr>\n",
       "      <th>4</th>\n",
       "      <td>5</td>\n",
       "      <td>5.0</td>\n",
       "      <td>3.6</td>\n",
       "      <td>1.4</td>\n",
       "      <td>0.2</td>\n",
       "      <td>Iris-setosa</td>\n",
       "    </tr>\n",
       "  </tbody>\n",
       "</table>\n",
       "</div>"
      ],
      "text/plain": [
       "   Id  SepalLengthCm  SepalWidthCm  PetalLengthCm  PetalWidthCm      Species\n",
       "0   1            5.1           3.5            1.4           0.2  Iris-setosa\n",
       "1   2            4.9           3.0            1.4           0.2  Iris-setosa\n",
       "2   3            4.7           3.2            1.3           0.2  Iris-setosa\n",
       "3   4            4.6           3.1            1.5           0.2  Iris-setosa\n",
       "4   5            5.0           3.6            1.4           0.2  Iris-setosa"
      ]
     },
     "execution_count": 160,
     "metadata": {},
     "output_type": "execute_result"
    }
   ],
   "source": [
    "df.head()"
   ]
  },
  {
   "cell_type": "code",
   "execution_count": 161,
   "id": "f934b440",
   "metadata": {
    "ExecuteTime": {
     "end_time": "2021-10-08T06:39:25.845777Z",
     "start_time": "2021-10-08T06:39:25.836777Z"
    }
   },
   "outputs": [
    {
     "data": {
      "text/html": [
       "<div>\n",
       "<style scoped>\n",
       "    .dataframe tbody tr th:only-of-type {\n",
       "        vertical-align: middle;\n",
       "    }\n",
       "\n",
       "    .dataframe tbody tr th {\n",
       "        vertical-align: top;\n",
       "    }\n",
       "\n",
       "    .dataframe thead th {\n",
       "        text-align: right;\n",
       "    }\n",
       "</style>\n",
       "<table border=\"1\" class=\"dataframe\">\n",
       "  <thead>\n",
       "    <tr style=\"text-align: right;\">\n",
       "      <th></th>\n",
       "      <th>Id</th>\n",
       "      <th>SepalLengthCm</th>\n",
       "      <th>SepalWidthCm</th>\n",
       "      <th>PetalLengthCm</th>\n",
       "      <th>PetalWidthCm</th>\n",
       "      <th>Species</th>\n",
       "    </tr>\n",
       "  </thead>\n",
       "  <tbody>\n",
       "    <tr>\n",
       "      <th>149</th>\n",
       "      <td>150</td>\n",
       "      <td>5.9</td>\n",
       "      <td>3.0</td>\n",
       "      <td>5.1</td>\n",
       "      <td>1.8</td>\n",
       "      <td>Iris-virginica</td>\n",
       "    </tr>\n",
       "  </tbody>\n",
       "</table>\n",
       "</div>"
      ],
      "text/plain": [
       "      Id  SepalLengthCm  SepalWidthCm  PetalLengthCm  PetalWidthCm  \\\n",
       "149  150            5.9           3.0            5.1           1.8   \n",
       "\n",
       "            Species  \n",
       "149  Iris-virginica  "
      ]
     },
     "execution_count": 161,
     "metadata": {},
     "output_type": "execute_result"
    }
   ],
   "source": [
    "df.tail(1)"
   ]
  },
  {
   "cell_type": "code",
   "execution_count": 162,
   "id": "bd818e0f",
   "metadata": {
    "ExecuteTime": {
     "end_time": "2021-10-08T06:39:26.424683Z",
     "start_time": "2021-10-08T06:39:26.413715Z"
    }
   },
   "outputs": [
    {
     "data": {
      "text/plain": [
       "Index(['Id', 'SepalLengthCm', 'SepalWidthCm', 'PetalLengthCm', 'PetalWidthCm',\n",
       "       'Species'],\n",
       "      dtype='object')"
      ]
     },
     "execution_count": 162,
     "metadata": {},
     "output_type": "execute_result"
    }
   ],
   "source": [
    "df.columns"
   ]
  },
  {
   "cell_type": "code",
   "execution_count": 163,
   "id": "cdbced51",
   "metadata": {
    "ExecuteTime": {
     "end_time": "2021-10-08T06:39:27.406410Z",
     "start_time": "2021-10-08T06:39:27.401379Z"
    }
   },
   "outputs": [],
   "source": [
    "df.columns = df.columns.str.lower()"
   ]
  },
  {
   "cell_type": "code",
   "execution_count": 164,
   "id": "59d9a128",
   "metadata": {
    "ExecuteTime": {
     "end_time": "2021-10-08T06:39:28.138273Z",
     "start_time": "2021-10-08T06:39:28.121243Z"
    }
   },
   "outputs": [
    {
     "name": "stdout",
     "output_type": "stream",
     "text": [
      "<class 'pandas.core.frame.DataFrame'>\n",
      "RangeIndex: 150 entries, 0 to 149\n",
      "Data columns (total 6 columns):\n",
      " #   Column         Non-Null Count  Dtype  \n",
      "---  ------         --------------  -----  \n",
      " 0   id             150 non-null    int64  \n",
      " 1   sepallengthcm  150 non-null    float64\n",
      " 2   sepalwidthcm   150 non-null    float64\n",
      " 3   petallengthcm  150 non-null    float64\n",
      " 4   petalwidthcm   150 non-null    float64\n",
      " 5   species        150 non-null    object \n",
      "dtypes: float64(4), int64(1), object(1)\n",
      "memory usage: 7.2+ KB\n"
     ]
    }
   ],
   "source": [
    "df.info()"
   ]
  },
  {
   "cell_type": "code",
   "execution_count": 165,
   "id": "8413ebe5",
   "metadata": {
    "ExecuteTime": {
     "end_time": "2021-10-08T06:39:29.510409Z",
     "start_time": "2021-10-08T06:39:29.493410Z"
    }
   },
   "outputs": [
    {
     "data": {
      "text/html": [
       "<div>\n",
       "<style scoped>\n",
       "    .dataframe tbody tr th:only-of-type {\n",
       "        vertical-align: middle;\n",
       "    }\n",
       "\n",
       "    .dataframe tbody tr th {\n",
       "        vertical-align: top;\n",
       "    }\n",
       "\n",
       "    .dataframe thead th {\n",
       "        text-align: right;\n",
       "    }\n",
       "</style>\n",
       "<table border=\"1\" class=\"dataframe\">\n",
       "  <thead>\n",
       "    <tr style=\"text-align: right;\">\n",
       "      <th></th>\n",
       "      <th>total_missing</th>\n",
       "      <th>perc_missing</th>\n",
       "    </tr>\n",
       "  </thead>\n",
       "  <tbody>\n",
       "    <tr>\n",
       "      <th>id</th>\n",
       "      <td>0</td>\n",
       "      <td>0.0</td>\n",
       "    </tr>\n",
       "    <tr>\n",
       "      <th>sepallengthcm</th>\n",
       "      <td>0</td>\n",
       "      <td>0.0</td>\n",
       "    </tr>\n",
       "    <tr>\n",
       "      <th>sepalwidthcm</th>\n",
       "      <td>0</td>\n",
       "      <td>0.0</td>\n",
       "    </tr>\n",
       "    <tr>\n",
       "      <th>petallengthcm</th>\n",
       "      <td>0</td>\n",
       "      <td>0.0</td>\n",
       "    </tr>\n",
       "    <tr>\n",
       "      <th>petalwidthcm</th>\n",
       "      <td>0</td>\n",
       "      <td>0.0</td>\n",
       "    </tr>\n",
       "    <tr>\n",
       "      <th>species</th>\n",
       "      <td>0</td>\n",
       "      <td>0.0</td>\n",
       "    </tr>\n",
       "  </tbody>\n",
       "</table>\n",
       "</div>"
      ],
      "text/plain": [
       "               total_missing  perc_missing\n",
       "id                         0           0.0\n",
       "sepallengthcm              0           0.0\n",
       "sepalwidthcm               0           0.0\n",
       "petallengthcm              0           0.0\n",
       "petalwidthcm               0           0.0\n",
       "species                    0           0.0"
      ]
     },
     "execution_count": 165,
     "metadata": {},
     "output_type": "execute_result"
    }
   ],
   "source": [
    "missing_data = pd.DataFrame({\n",
    "    'total_missing': df.isnull().sum(),\n",
    "    'perc_missing': (df.isnull().sum()/df.shape[0]) * 100\n",
    "})\n",
    "\n",
    "missing_data.sort_values(by='perc_missing', ascending=False)"
   ]
  },
  {
   "cell_type": "code",
   "execution_count": 166,
   "id": "6ad8fa6b",
   "metadata": {
    "ExecuteTime": {
     "end_time": "2021-10-08T06:39:36.809013Z",
     "start_time": "2021-10-08T06:39:36.777875Z"
    }
   },
   "outputs": [
    {
     "data": {
      "text/html": [
       "<div>\n",
       "<style scoped>\n",
       "    .dataframe tbody tr th:only-of-type {\n",
       "        vertical-align: middle;\n",
       "    }\n",
       "\n",
       "    .dataframe tbody tr th {\n",
       "        vertical-align: top;\n",
       "    }\n",
       "\n",
       "    .dataframe thead th {\n",
       "        text-align: right;\n",
       "    }\n",
       "</style>\n",
       "<table border=\"1\" class=\"dataframe\">\n",
       "  <thead>\n",
       "    <tr style=\"text-align: right;\">\n",
       "      <th></th>\n",
       "      <th>id</th>\n",
       "      <th>sepallengthcm</th>\n",
       "      <th>sepalwidthcm</th>\n",
       "      <th>petallengthcm</th>\n",
       "      <th>petalwidthcm</th>\n",
       "    </tr>\n",
       "  </thead>\n",
       "  <tbody>\n",
       "    <tr>\n",
       "      <th>count</th>\n",
       "      <td>150.000000</td>\n",
       "      <td>150.000000</td>\n",
       "      <td>150.000000</td>\n",
       "      <td>150.000000</td>\n",
       "      <td>150.000000</td>\n",
       "    </tr>\n",
       "    <tr>\n",
       "      <th>mean</th>\n",
       "      <td>75.500000</td>\n",
       "      <td>5.843333</td>\n",
       "      <td>3.054000</td>\n",
       "      <td>3.758667</td>\n",
       "      <td>1.198667</td>\n",
       "    </tr>\n",
       "    <tr>\n",
       "      <th>std</th>\n",
       "      <td>43.445368</td>\n",
       "      <td>0.828066</td>\n",
       "      <td>0.433594</td>\n",
       "      <td>1.764420</td>\n",
       "      <td>0.763161</td>\n",
       "    </tr>\n",
       "    <tr>\n",
       "      <th>min</th>\n",
       "      <td>1.000000</td>\n",
       "      <td>4.300000</td>\n",
       "      <td>2.000000</td>\n",
       "      <td>1.000000</td>\n",
       "      <td>0.100000</td>\n",
       "    </tr>\n",
       "    <tr>\n",
       "      <th>25%</th>\n",
       "      <td>38.250000</td>\n",
       "      <td>5.100000</td>\n",
       "      <td>2.800000</td>\n",
       "      <td>1.600000</td>\n",
       "      <td>0.300000</td>\n",
       "    </tr>\n",
       "    <tr>\n",
       "      <th>50%</th>\n",
       "      <td>75.500000</td>\n",
       "      <td>5.800000</td>\n",
       "      <td>3.000000</td>\n",
       "      <td>4.350000</td>\n",
       "      <td>1.300000</td>\n",
       "    </tr>\n",
       "    <tr>\n",
       "      <th>75%</th>\n",
       "      <td>112.750000</td>\n",
       "      <td>6.400000</td>\n",
       "      <td>3.300000</td>\n",
       "      <td>5.100000</td>\n",
       "      <td>1.800000</td>\n",
       "    </tr>\n",
       "    <tr>\n",
       "      <th>max</th>\n",
       "      <td>150.000000</td>\n",
       "      <td>7.900000</td>\n",
       "      <td>4.400000</td>\n",
       "      <td>6.900000</td>\n",
       "      <td>2.500000</td>\n",
       "    </tr>\n",
       "  </tbody>\n",
       "</table>\n",
       "</div>"
      ],
      "text/plain": [
       "               id  sepallengthcm  sepalwidthcm  petallengthcm  petalwidthcm\n",
       "count  150.000000     150.000000    150.000000     150.000000    150.000000\n",
       "mean    75.500000       5.843333      3.054000       3.758667      1.198667\n",
       "std     43.445368       0.828066      0.433594       1.764420      0.763161\n",
       "min      1.000000       4.300000      2.000000       1.000000      0.100000\n",
       "25%     38.250000       5.100000      2.800000       1.600000      0.300000\n",
       "50%     75.500000       5.800000      3.000000       4.350000      1.300000\n",
       "75%    112.750000       6.400000      3.300000       5.100000      1.800000\n",
       "max    150.000000       7.900000      4.400000       6.900000      2.500000"
      ]
     },
     "execution_count": 166,
     "metadata": {},
     "output_type": "execute_result"
    }
   ],
   "source": [
    "df.describe()"
   ]
  },
  {
   "cell_type": "markdown",
   "id": "59b2db81",
   "metadata": {},
   "source": [
    "## Data Visualization"
   ]
  },
  {
   "cell_type": "code",
   "execution_count": 167,
   "id": "35322915",
   "metadata": {
    "ExecuteTime": {
     "end_time": "2021-10-08T06:39:42.502013Z",
     "start_time": "2021-10-08T06:39:42.485013Z"
    }
   },
   "outputs": [],
   "source": [
    "import seaborn as sns"
   ]
  },
  {
   "cell_type": "code",
   "execution_count": 168,
   "id": "8b2027be",
   "metadata": {
    "ExecuteTime": {
     "end_time": "2021-10-08T06:39:43.596198Z",
     "start_time": "2021-10-08T06:39:43.578167Z"
    }
   },
   "outputs": [
    {
     "data": {
      "text/plain": [
       "Index(['id', 'sepallengthcm', 'sepalwidthcm', 'petallengthcm', 'petalwidthcm'], dtype='object')"
      ]
     },
     "execution_count": 168,
     "metadata": {},
     "output_type": "execute_result"
    }
   ],
   "source": [
    "num_columns = df.select_dtypes(include=np.number).columns\n",
    "num_columns"
   ]
  },
  {
   "cell_type": "code",
   "execution_count": 171,
   "id": "a9d858f1",
   "metadata": {
    "ExecuteTime": {
     "end_time": "2021-10-08T06:40:04.266829Z",
     "start_time": "2021-10-08T06:40:04.261830Z"
    }
   },
   "outputs": [],
   "source": [
    "col = df[num_columns[3]]"
   ]
  },
  {
   "cell_type": "code",
   "execution_count": 172,
   "id": "edbde4d6",
   "metadata": {
    "ExecuteTime": {
     "end_time": "2021-10-08T06:40:04.975906Z",
     "start_time": "2021-10-08T06:40:04.644903Z"
    }
   },
   "outputs": [
    {
     "data": {
      "text/plain": [
       "<AxesSubplot:xlabel='petallengthcm', ylabel='Density'>"
      ]
     },
     "execution_count": 172,
     "metadata": {},
     "output_type": "execute_result"
    },
    {
     "data": {
      "image/png": "[encoded data removed]",
      "text/plain": [
       "<Figure size 648x576 with 1 Axes>"
      ]
     },
     "metadata": {
      "needs_background": "light"
     },
     "output_type": "display_data"
    }
   ],
   "source": [
    "plt.figure(figsize=(9, 8))\n",
    "\n",
    "sns.distplot(col,\n",
    "             color='b',\n",
    "             bins=100,\n",
    "             hist_kws={'alpha': 0.4})"
   ]
  },
  {
   "cell_type": "markdown",
   "id": "4b4f1cf7",
   "metadata": {
    "ExecuteTime": {
     "end_time": "2021-10-08T05:33:16.574027Z",
     "start_time": "2021-10-08T05:33:16.569028Z"
    }
   },
   "source": [
    "### Skewness and Kurtosis\n",
    "\n",
    "#### Skewness is a measure of symmetry, or more precisely, the lack of symmetry. A distribution, or data set, is symmetric if it looks the same to the left and right of the center point\n",
    "\n",
    "#### Kurtosis is a measure of whether the data are heavy-tailed or light-tailed relative to a normal distribution. It refers to the degree of presence of outliers in the distribution.\n",
    "\n",
    "<img src=\"img/skew.gif\" width=\"500\" align=\"center\" />\n",
    "\n",
    "<table><tr>\n",
    "<td> <img src=\"img/skew.jfif\" style=\"width: 250px;\"/> </td>\n",
    "<td> <img src=\"img/kurt.png\" style=\"width: 250px;\"/> </td>\n",
    "</tr></table>\n"
   ]
  },
  {
   "cell_type": "code",
   "execution_count": 173,
   "id": "86b41340",
   "metadata": {
    "ExecuteTime": {
     "end_time": "2021-10-08T06:40:06.965782Z",
     "start_time": "2021-10-08T06:40:06.961782Z"
    }
   },
   "outputs": [
    {
     "name": "stdout",
     "output_type": "stream",
     "text": [
      "Skewness: -0.274464\n",
      "Kurtosis: -1.401921\n"
     ]
    }
   ],
   "source": [
    "print(\"Skewness: %f\" % col.skew())\n",
    "print(\"Kurtosis: %f\" % col.kurt())"
   ]
  },
  {
   "cell_type": "markdown",
   "id": "df4f4b4c",
   "metadata": {},
   "source": [
    "## Handling outliers"
   ]
  },
  {
   "cell_type": "code",
   "execution_count": 175,
   "id": "a1589ebd",
   "metadata": {
    "ExecuteTime": {
     "end_time": "2021-10-08T06:40:47.322671Z",
     "start_time": "2021-10-08T06:40:47.145670Z"
    }
   },
   "outputs": [
    {
     "data": {
      "image/png": "[encoded data removed]",
      "text/plain": [
       "<Figure size 1296x648 with 1 Axes>"
      ]
     },
     "metadata": {
      "needs_background": "light"
     },
     "output_type": "display_data"
    }
   ],
   "source": [
    "plt.figure(figsize=(18, 9))\n",
    "\n",
    "df[['sepallengthcm', 'sepalwidthcm', 'petallengthcm', 'petalwidthcm']].boxplot()\n",
    "\n",
    "plt.title(\"Box plot: Numerical variables in Iris dataset\", fontsize=20)\n",
    "plt.show()"
   ]
  },
  {
   "cell_type": "code",
   "execution_count": 181,
   "id": "cc84aa9c",
   "metadata": {
    "ExecuteTime": {
     "end_time": "2021-10-08T06:45:53.205080Z",
     "start_time": "2021-10-08T06:45:53.189081Z"
    }
   },
   "outputs": [],
   "source": [
    "def plot_barh(df,col, cmap = None, stacked=False, norm = None):\n",
    "    df.plot(kind='barh', colormap=cmap, stacked=stacked)\n",
    "    fig = plt.gcf()\n",
    "    fig.set_size_inches(24,12)\n",
    "    plt.title(\"Species vs {} {}\".format(col, '(Normalized)' if norm else ''), fontsize= 20)\n",
    "    plt.ylabel('Species', fontsize = 18)\n",
    "    plot = plt.xlabel('Frequency', fontsize=18)\n",
    "    \n",
    "def norm_counts(t):\n",
    "    norms = np.linalg.norm(t.fillna(0), axis=1)\n",
    "    t_norm = t[0:0]\n",
    "    for row, euc in zip(t.iterrows(), norms):\n",
    "        t_norm.loc[row[0]] = list(map(lambda x: x/euc, list(row[1])))\n",
    "    return t_norm\n"
   ]
  },
  {
   "cell_type": "code",
   "execution_count": 185,
   "id": "b9e31c47",
   "metadata": {
    "ExecuteTime": {
     "end_time": "2021-10-08T06:49:09.690784Z",
     "start_time": "2021-10-08T06:49:09.666756Z"
    }
   },
   "outputs": [
    {
     "data": {
      "text/plain": [
       "petallengthcm  species        \n",
       "1.0            Iris-setosa        1.0\n",
       "               Iris-versicolor    NaN\n",
       "               Iris-virginica     NaN\n",
       "1.1            Iris-setosa        1.0\n",
       "               Iris-versicolor    NaN\n",
       "                                 ... \n",
       "6.7            Iris-versicolor    NaN\n",
       "               Iris-virginica     2.0\n",
       "6.9            Iris-setosa        NaN\n",
       "               Iris-versicolor    NaN\n",
       "               Iris-virginica     1.0\n",
       "Length: 129, dtype: float64"
      ]
     },
     "execution_count": 185,
     "metadata": {},
     "output_type": "execute_result"
    }
   ],
   "source": [
    "cat_fit.unstack()"
   ]
  },
  {
   "cell_type": "code",
   "execution_count": 183,
   "id": "9922546a",
   "metadata": {
    "ExecuteTime": {
     "end_time": "2021-10-08T06:46:53.299763Z",
     "start_time": "2021-10-08T06:46:53.006715Z"
    }
   },
   "outputs": [
    {
     "ename": "KeyError",
     "evalue": "\"['petallengthcm'] not found in axis\"",
     "output_type": "error",
     "traceback": [
      "\u001b[1;31m---------------------------------------------------------------------------\u001b[0m",
      "\u001b[1;31mKeyError\u001b[0m                                  Traceback (most recent call last)",
      "\u001b[1;32m~\\AppData\\Local\\Temp/ipykernel_7120/1530768093.py\u001b[0m in \u001b[0;36m<module>\u001b[1;34m\u001b[0m\n\u001b[0;32m      6\u001b[0m \u001b[0mcat_fit\u001b[0m \u001b[1;33m=\u001b[0m \u001b[0mcat_fit\u001b[0m\u001b[1;33m.\u001b[0m\u001b[0munstack\u001b[0m\u001b[1;33m(\u001b[0m\u001b[1;33m)\u001b[0m\u001b[1;33m\u001b[0m\u001b[1;33m\u001b[0m\u001b[0m\n\u001b[0;32m      7\u001b[0m \u001b[0mcat_fit_norm\u001b[0m \u001b[1;33m=\u001b[0m \u001b[0mnorm_counts\u001b[0m\u001b[1;33m(\u001b[0m\u001b[0mcat_fit\u001b[0m\u001b[1;33m)\u001b[0m\u001b[1;33m\u001b[0m\u001b[1;33m\u001b[0m\u001b[0m\n\u001b[1;32m----> 8\u001b[1;33m \u001b[0mcat_fit_norm\u001b[0m\u001b[1;33m.\u001b[0m\u001b[0mdrop\u001b[0m\u001b[1;33m(\u001b[0m\u001b[1;33m[\u001b[0m\u001b[0mcol\u001b[0m\u001b[1;33m]\u001b[0m\u001b[1;33m,\u001b[0m \u001b[0maxis\u001b[0m\u001b[1;33m=\u001b[0m\u001b[1;36m1\u001b[0m\u001b[1;33m,\u001b[0m \u001b[0minplace\u001b[0m\u001b[1;33m=\u001b[0m\u001b[1;32mTrue\u001b[0m\u001b[1;33m)\u001b[0m\u001b[1;33m\u001b[0m\u001b[1;33m\u001b[0m\u001b[0m\n\u001b[0m\u001b[0;32m      9\u001b[0m \u001b[0mplot_barh\u001b[0m\u001b[1;33m(\u001b[0m\u001b[0mcat_fit\u001b[0m\u001b[1;33m,\u001b[0m \u001b[0mcol\u001b[0m\u001b[1;33m)\u001b[0m\u001b[1;33m\u001b[0m\u001b[1;33m\u001b[0m\u001b[0m\n",
      "\u001b[1;32mF:\\miniconda3\\lib\\site-packages\\pandas\\util\\_decorators.py\u001b[0m in \u001b[0;36mwrapper\u001b[1;34m(*args, **kwargs)\u001b[0m\n\u001b[0;32m    309\u001b[0m                     \u001b[0mstacklevel\u001b[0m\u001b[1;33m=\u001b[0m\u001b[0mstacklevel\u001b[0m\u001b[1;33m,\u001b[0m\u001b[1;33m\u001b[0m\u001b[1;33m\u001b[0m\u001b[0m\n\u001b[0;32m    310\u001b[0m                 )\n\u001b[1;32m--> 311\u001b[1;33m             \u001b[1;32mreturn\u001b[0m \u001b[0mfunc\u001b[0m\u001b[1;33m(\u001b[0m\u001b[1;33m*\u001b[0m\u001b[0margs\u001b[0m\u001b[1;33m,\u001b[0m \u001b[1;33m**\u001b[0m\u001b[0mkwargs\u001b[0m\u001b[1;33m)\u001b[0m\u001b[1;33m\u001b[0m\u001b[1;33m\u001b[0m\u001b[0m\n\u001b[0m\u001b[0;32m    312\u001b[0m \u001b[1;33m\u001b[0m\u001b[0m\n\u001b[0;32m    313\u001b[0m         \u001b[1;32mreturn\u001b[0m \u001b[0mwrapper\u001b[0m\u001b[1;33m\u001b[0m\u001b[1;33m\u001b[0m\u001b[0m\n",
      "\u001b[1;32mF:\\miniconda3\\lib\\site-packages\\pandas\\core\\frame.py\u001b[0m in \u001b[0;36mdrop\u001b[1;34m(self, labels, axis, index, columns, level, inplace, errors)\u001b[0m\n\u001b[0;32m   4904\u001b[0m                 \u001b[0mweight\u001b[0m  \u001b[1;36m1.0\u001b[0m     \u001b[1;36m0.8\u001b[0m\u001b[1;33m\u001b[0m\u001b[1;33m\u001b[0m\u001b[0m\n\u001b[0;32m   4905\u001b[0m         \"\"\"\n\u001b[1;32m-> 4906\u001b[1;33m         return super().drop(\n\u001b[0m\u001b[0;32m   4907\u001b[0m             \u001b[0mlabels\u001b[0m\u001b[1;33m=\u001b[0m\u001b[0mlabels\u001b[0m\u001b[1;33m,\u001b[0m\u001b[1;33m\u001b[0m\u001b[1;33m\u001b[0m\u001b[0m\n\u001b[0;32m   4908\u001b[0m             \u001b[0maxis\u001b[0m\u001b[1;33m=\u001b[0m\u001b[0maxis\u001b[0m\u001b[1;33m,\u001b[0m\u001b[1;33m\u001b[0m\u001b[1;33m\u001b[0m\u001b[0m\n",
      "\u001b[1;32mF:\\miniconda3\\lib\\site-packages\\pandas\\core\\generic.py\u001b[0m in \u001b[0;36mdrop\u001b[1;34m(self, labels, axis, index, columns, level, inplace, errors)\u001b[0m\n\u001b[0;32m   4148\u001b[0m         \u001b[1;32mfor\u001b[0m \u001b[0maxis\u001b[0m\u001b[1;33m,\u001b[0m \u001b[0mlabels\u001b[0m \u001b[1;32min\u001b[0m \u001b[0maxes\u001b[0m\u001b[1;33m.\u001b[0m\u001b[0mitems\u001b[0m\u001b[1;33m(\u001b[0m\u001b[1;33m)\u001b[0m\u001b[1;33m:\u001b[0m\u001b[1;33m\u001b[0m\u001b[1;33m\u001b[0m\u001b[0m\n\u001b[0;32m   4149\u001b[0m             \u001b[1;32mif\u001b[0m \u001b[0mlabels\u001b[0m \u001b[1;32mis\u001b[0m \u001b[1;32mnot\u001b[0m \u001b[1;32mNone\u001b[0m\u001b[1;33m:\u001b[0m\u001b[1;33m\u001b[0m\u001b[1;33m\u001b[0m\u001b[0m\n\u001b[1;32m-> 4150\u001b[1;33m                 \u001b[0mobj\u001b[0m \u001b[1;33m=\u001b[0m \u001b[0mobj\u001b[0m\u001b[1;33m.\u001b[0m\u001b[0m_drop_axis\u001b[0m\u001b[1;33m(\u001b[0m\u001b[0mlabels\u001b[0m\u001b[1;33m,\u001b[0m \u001b[0maxis\u001b[0m\u001b[1;33m,\u001b[0m \u001b[0mlevel\u001b[0m\u001b[1;33m=\u001b[0m\u001b[0mlevel\u001b[0m\u001b[1;33m,\u001b[0m \u001b[0merrors\u001b[0m\u001b[1;33m=\u001b[0m\u001b[0merrors\u001b[0m\u001b[1;33m)\u001b[0m\u001b[1;33m\u001b[0m\u001b[1;33m\u001b[0m\u001b[0m\n\u001b[0m\u001b[0;32m   4151\u001b[0m \u001b[1;33m\u001b[0m\u001b[0m\n\u001b[0;32m   4152\u001b[0m         \u001b[1;32mif\u001b[0m \u001b[0minplace\u001b[0m\u001b[1;33m:\u001b[0m\u001b[1;33m\u001b[0m\u001b[1;33m\u001b[0m\u001b[0m\n",
      "\u001b[1;32mF:\\miniconda3\\lib\\site-packages\\pandas\\core\\generic.py\u001b[0m in \u001b[0;36m_drop_axis\u001b[1;34m(self, labels, axis, level, errors)\u001b[0m\n\u001b[0;32m   4183\u001b[0m                 \u001b[0mnew_axis\u001b[0m \u001b[1;33m=\u001b[0m \u001b[0maxis\u001b[0m\u001b[1;33m.\u001b[0m\u001b[0mdrop\u001b[0m\u001b[1;33m(\u001b[0m\u001b[0mlabels\u001b[0m\u001b[1;33m,\u001b[0m \u001b[0mlevel\u001b[0m\u001b[1;33m=\u001b[0m\u001b[0mlevel\u001b[0m\u001b[1;33m,\u001b[0m \u001b[0merrors\u001b[0m\u001b[1;33m=\u001b[0m\u001b[0merrors\u001b[0m\u001b[1;33m)\u001b[0m\u001b[1;33m\u001b[0m\u001b[1;33m\u001b[0m\u001b[0m\n\u001b[0;32m   4184\u001b[0m             \u001b[1;32melse\u001b[0m\u001b[1;33m:\u001b[0m\u001b[1;33m\u001b[0m\u001b[1;33m\u001b[0m\u001b[0m\n\u001b[1;32m-> 4185\u001b[1;33m                 \u001b[0mnew_axis\u001b[0m \u001b[1;33m=\u001b[0m \u001b[0maxis\u001b[0m\u001b[1;33m.\u001b[0m\u001b[0mdrop\u001b[0m\u001b[1;33m(\u001b[0m\u001b[0mlabels\u001b[0m\u001b[1;33m,\u001b[0m \u001b[0merrors\u001b[0m\u001b[1;33m=\u001b[0m\u001b[0merrors\u001b[0m\u001b[1;33m)\u001b[0m\u001b[1;33m\u001b[0m\u001b[1;33m\u001b[0m\u001b[0m\n\u001b[0m\u001b[0;32m   4186\u001b[0m             \u001b[0mresult\u001b[0m \u001b[1;33m=\u001b[0m \u001b[0mself\u001b[0m\u001b[1;33m.\u001b[0m\u001b[0mreindex\u001b[0m\u001b[1;33m(\u001b[0m\u001b[1;33m**\u001b[0m\u001b[1;33m{\u001b[0m\u001b[0maxis_name\u001b[0m\u001b[1;33m:\u001b[0m \u001b[0mnew_axis\u001b[0m\u001b[1;33m}\u001b[0m\u001b[1;33m)\u001b[0m\u001b[1;33m\u001b[0m\u001b[1;33m\u001b[0m\u001b[0m\n\u001b[0;32m   4187\u001b[0m \u001b[1;33m\u001b[0m\u001b[0m\n",
      "\u001b[1;32mF:\\miniconda3\\lib\\site-packages\\pandas\\core\\indexes\\base.py\u001b[0m in \u001b[0;36mdrop\u001b[1;34m(self, labels, errors)\u001b[0m\n\u001b[0;32m   6015\u001b[0m         \u001b[1;32mif\u001b[0m \u001b[0mmask\u001b[0m\u001b[1;33m.\u001b[0m\u001b[0many\u001b[0m\u001b[1;33m(\u001b[0m\u001b[1;33m)\u001b[0m\u001b[1;33m:\u001b[0m\u001b[1;33m\u001b[0m\u001b[1;33m\u001b[0m\u001b[0m\n\u001b[0;32m   6016\u001b[0m             \u001b[1;32mif\u001b[0m \u001b[0merrors\u001b[0m \u001b[1;33m!=\u001b[0m \u001b[1;34m\"ignore\"\u001b[0m\u001b[1;33m:\u001b[0m\u001b[1;33m\u001b[0m\u001b[1;33m\u001b[0m\u001b[0m\n\u001b[1;32m-> 6017\u001b[1;33m                 \u001b[1;32mraise\u001b[0m \u001b[0mKeyError\u001b[0m\u001b[1;33m(\u001b[0m\u001b[1;34mf\"{labels[mask]} not found in axis\"\u001b[0m\u001b[1;33m)\u001b[0m\u001b[1;33m\u001b[0m\u001b[1;33m\u001b[0m\u001b[0m\n\u001b[0m\u001b[0;32m   6018\u001b[0m             \u001b[0mindexer\u001b[0m \u001b[1;33m=\u001b[0m \u001b[0mindexer\u001b[0m\u001b[1;33m[\u001b[0m\u001b[1;33m~\u001b[0m\u001b[0mmask\u001b[0m\u001b[1;33m]\u001b[0m\u001b[1;33m\u001b[0m\u001b[1;33m\u001b[0m\u001b[0m\n\u001b[0;32m   6019\u001b[0m         \u001b[1;32mreturn\u001b[0m \u001b[0mself\u001b[0m\u001b[1;33m.\u001b[0m\u001b[0mdelete\u001b[0m\u001b[1;33m(\u001b[0m\u001b[0mindexer\u001b[0m\u001b[1;33m)\u001b[0m\u001b[1;33m\u001b[0m\u001b[1;33m\u001b[0m\u001b[0m\n",
      "\u001b[1;31mKeyError\u001b[0m: \"['petallengthcm'] not found in axis\""
     ]
    }
   ],
   "source": [
    "g_by_category = df.groupby('species')\n",
    "\n",
    "col = 'petallengthcm'\n",
    "\n",
    "cat_fit = g_by_category[col].value_counts()\n",
    "cat_fit = cat_fit.unstack()\n",
    "cat_fit_norm = norm_counts(cat_fit)\n",
    "cat_fit_norm.drop([col], axis=1, inplace=True)\n",
    "plot_barh(cat_fit, col)\n"
   ]
  },
  {
   "cell_type": "code",
   "execution_count": null,
   "id": "412f4ffb",
   "metadata": {},
   "outputs": [],
   "source": []
  },
  {
   "cell_type": "code",
   "execution_count": null,
   "id": "41aa10a5",
   "metadata": {},
   "outputs": [],
   "source": []
  },
  {
   "cell_type": "code",
   "execution_count": null,
   "id": "229fa44c",
   "metadata": {},
   "outputs": [],
   "source": []
  },
  {
   "cell_type": "code",
   "execution_count": null,
   "id": "cad228f0",
   "metadata": {},
   "outputs": [],
   "source": [
    "plt.figure(figsize=(18,8))\n",
    "plt.xlabel(\"\", fontsize=18)\n",
    "plt.ylabel(\"size\", fontsize=18)\n",
    "plt.suptitle(\"Joint distribution of  vs \", fontsize= 20)\n",
    "plt.plot(mc_df., mc_df['size'], 'bo', alpha=0.2)\n",
    "plt.show()\n"
   ]
  },
  {
   "cell_type": "code",
   "execution_count": null,
   "id": "f3d0d6b6",
   "metadata": {},
   "outputs": [],
   "source": []
  },
  {
   "cell_type": "code",
   "execution_count": null,
   "id": "21488bda",
   "metadata": {},
   "outputs": [],
   "source": []
  },
  {
   "cell_type": "code",
   "execution_count": null,
   "id": "e947cb51",
   "metadata": {},
   "outputs": [],
   "source": []
  },
  {
   "cell_type": "code",
   "execution_count": null,
   "id": "b7174ea6",
   "metadata": {},
   "outputs": [],
   "source": []
  },
  {
   "cell_type": "code",
   "execution_count": null,
   "id": "576849c0",
   "metadata": {},
   "outputs": [],
   "source": []
  },
  {
   "cell_type": "code",
   "execution_count": null,
   "id": "6def4a7c",
   "metadata": {},
   "outputs": [],
   "source": []
  },
  {
   "cell_type": "code",
   "execution_count": null,
   "id": "4179af7a",
   "metadata": {},
   "outputs": [],
   "source": []
  },
  {
   "cell_type": "code",
   "execution_count": null,
   "id": "6f451d0b",
   "metadata": {},
   "outputs": [],
   "source": []
  },
  {
   "cell_type": "markdown",
   "id": "2076e363",
   "metadata": {},
   "source": [
    "#### Resources used for creating this notebook:\n",
    "\n",
    "- https://github.com/learn-co-students/dsc-implementing-statistics-with-functions-lab-dc-ds-071519/blob/master/index.ipynb\n",
    "- https://archive.ics.uci.edu/ml/datasets/iris\n",
    "- https://www.kaggle.com/agrawaladitya/step-by-step-data-preprocessing-eda\n",
    "- https://www.kaggle.com/pmarcelino/comprehensive-data-exploration-with-python\n",
    "- https://www.kaggle.com/ekami66/detailed-exploratory-data-analysis-with-python\n",
    "- https://www.kaggle.com/mjamilmoughal/eda-of-titanic-dataset-with-python-analysis"
   ]
  },
  {
   "cell_type": "code",
   "execution_count": null,
   "id": "d6a2c345",
   "metadata": {},
   "outputs": [],
   "source": []
  }
 ],
 "metadata": {
  "kernelspec": {
   "display_name": "Python 3 (ipykernel)",
   "language": "python",
   "name": "python3"
  },
  "language_info": {
   "codemirror_mode": {
    "name": "ipython",
    "version": 3
   },
   "file_extension": ".py",
   "mimetype": "text/x-python",
   "name": "python",
   "nbconvert_exporter": "python",
   "pygments_lexer": "ipython3",
   "version": "3.9.5"
  },
  "toc": {
   "base_numbering": 1,
   "nav_menu": {},
   "number_sections": true,
   "sideBar": true,
   "skip_h1_title": false,
   "title_cell": "Table of Contents",
   "title_sidebar": "Contents",
   "toc_cell": false,
   "toc_position": {},
   "toc_section_display": true,
   "toc_window_display": false
  }
 },
 "nbformat": 4,
 "nbformat_minor": 5
}
